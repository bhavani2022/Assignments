{
 "cells": [
  {
   "cell_type": "code",
   "execution_count": 7,
   "id": "a267cf08",
   "metadata": {},
   "outputs": [
    {
     "name": "stdout",
     "output_type": "stream",
     "text": [
      "Enter the number4\n",
      "The factorial of 4 is 24\n"
     ]
    }
   ],
   "source": [
    "\"\"\"1. Write a Python Program to Find the Factorial of a Number?\"\"\"\n",
    "factorial = 1\n",
    "num= int(input(\"Enter the number\"))\n",
    "if num < 0:\n",
    "    print(\"there is no factorials for negative numbers\")\n",
    "elif num == 0:\n",
    "    print(\"Factorial of Zero is 1\")\n",
    "else:\n",
    "    for i in range(1,num + 1):\n",
    "        factorial = factorial*i\n",
    "    print(\"The factorial of\",num,\"is\",factorial)"
   ]
  },
  {
   "cell_type": "code",
   "execution_count": 12,
   "id": "839f7682",
   "metadata": {},
   "outputs": [
    {
     "name": "stdout",
     "output_type": "stream",
     "text": [
      "Enter the number for which you need multiplication table13\n",
      "13\n",
      "26\n",
      "39\n",
      "52\n",
      "65\n",
      "78\n",
      "91\n",
      "104\n",
      "117\n",
      "130\n"
     ]
    }
   ],
   "source": [
    "\"\"\"2. Write a Python Program to Display the multiplication Table?\"\"\"\n",
    "\n",
    "num= int(input(\"Enter the number for which you need multiplication table\"))\n",
    "for i in range(1, 11):\n",
    "    mul=num*i\n",
    "    print(mul)\n"
   ]
  },
  {
   "cell_type": "code",
   "execution_count": 21,
   "id": "788e2caa",
   "metadata": {},
   "outputs": [
    {
     "name": "stdout",
     "output_type": "stream",
     "text": [
      "Enter the number of term 4\n",
      "The series is :  \n",
      "1\n",
      "2\n",
      "3\n",
      "5\n"
     ]
    }
   ],
   "source": [
    "\"\"\"3. Write a Python Program to Print the Fibonacci sequence?\"\"\"\n",
    "#A Fibonacci sequence is the integer sequence of 0, 1, 1, 2, 3, 5, 8,13,21..\n",
    "\n",
    "n1,n2=0,1\n",
    "num=int(input(\"Enter the number of term \"))\n",
    "if num< 0:\n",
    "    print(\"Enter the positive number\")\n",
    "elif num == 0:\n",
    "    print(\"The series is :\", n1)\n",
    "elif num == 1:\n",
    "    print(\"The series is \", n2)\n",
    "else:\n",
    "    print(\"The series is :  \")\n",
    "    for i in range(num):\n",
    "        n3=n1+n2\n",
    "        n1=n2\n",
    "        n2=n3\n",
    "        print(n3)\n"
   ]
  },
  {
   "cell_type": "code",
   "execution_count": 26,
   "id": "106e6b23",
   "metadata": {},
   "outputs": [
    {
     "name": "stdout",
     "output_type": "stream",
     "text": [
      "Enter the number: 153\n",
      "153 is an Armstrong number\n"
     ]
    }
   ],
   "source": [
    "\"\"\"4. Write a Python Program to Check Armstrong Number?\"\"\"\n",
    "#abcd... = a(n) + bn + cn + dn + ...\n",
    "#123=1*1*1+2*2*2+3*3*3 =1+8+27 = 36 !=123 so it is not armstrong number\n",
    "#153=1*1*1 +5*5*5 +3*3*3 =1+125+27 = 153 == 153\n",
    "\n",
    "\n",
    "num = int(input(\"Enter the number: \"))\n",
    "\n",
    "order = len(str(num))\n",
    "sum = 0\n",
    "temp = num\n",
    "\n",
    "while temp > 0:\n",
    "   digit = temp % 10\n",
    "   sum = sum+ digit ** order\n",
    "   temp //= 10\n",
    "\n",
    "if num == sum:\n",
    "   print(num,\"is an Armstrong number\")\n",
    "else:\n",
    "   print(num,\"is not an Armstrong number\")\n"
   ]
  },
  {
   "cell_type": "code",
   "execution_count": 29,
   "id": "6b6a8937",
   "metadata": {},
   "outputs": [
    {
     "name": "stdout",
     "output_type": "stream",
     "text": [
      "Enter the lower limit:  1\n",
      "Enter the upper limit:  1000\n",
      "1\n",
      "2\n",
      "3\n",
      "4\n",
      "5\n",
      "6\n",
      "7\n",
      "8\n",
      "9\n",
      "153\n",
      "370\n",
      "371\n",
      "407\n"
     ]
    }
   ],
   "source": [
    "\"\"\"5. Write a Python Program to Find Armstrong Number in an Interval?\"\"\"\n",
    "\n",
    "lower = int(input(\"Enter the lower limit:  \"))\n",
    "upper = int(input(\"Enter the upper limit:  \"))\n",
    "\n",
    "for num in range(lower, upper + 1):\n",
    "   order = len(str(num))\n",
    "   sum = 0\n",
    "\n",
    "   temp = num\n",
    "   while temp > 0:\n",
    "       digit = temp % 10\n",
    "       sum += digit ** order\n",
    "       temp //= 10\n",
    "\n",
    "   if num == sum:\n",
    "       print(num)"
   ]
  },
  {
   "cell_type": "code",
   "execution_count": 34,
   "id": "95db0a25",
   "metadata": {},
   "outputs": [
    {
     "name": "stdout",
     "output_type": "stream",
     "text": [
      "Enter the number: 16\n",
      "The sum is 136\n"
     ]
    }
   ],
   "source": [
    "\"\"\"6. Write a Python Program to Find the Sum of Natural Numbers?\"\"\"\n",
    "\n",
    "num = int(input(\"Enter the number: \"))\n",
    "\n",
    "if num < 0:\n",
    "   print(\"Enter a positive number\")\n",
    "else:\n",
    "   sum = 0\n",
    "   while(num > 0):\n",
    "       sum =sum + num\n",
    "       num =num - 1\n",
    "   print(\"The sum is\", sum)"
   ]
  },
  {
   "cell_type": "code",
   "execution_count": null,
   "id": "c5220b16",
   "metadata": {},
   "outputs": [],
   "source": []
  }
 ],
 "metadata": {
  "kernelspec": {
   "display_name": "Python 3 (ipykernel)",
   "language": "python",
   "name": "python3"
  },
  "language_info": {
   "codemirror_mode": {
    "name": "ipython",
    "version": 3
   },
   "file_extension": ".py",
   "mimetype": "text/x-python",
   "name": "python",
   "nbconvert_exporter": "python",
   "pygments_lexer": "ipython3",
   "version": "3.9.12"
  }
 },
 "nbformat": 4,
 "nbformat_minor": 5
}
