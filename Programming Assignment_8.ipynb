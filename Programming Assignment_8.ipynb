{
 "cells": [
  {
   "cell_type": "code",
   "execution_count": 1,
   "id": "d0bf036b",
   "metadata": {},
   "outputs": [
    {
     "name": "stdout",
     "output_type": "stream",
     "text": [
      "[30, 30, 30]\n",
      "[50, 50, 50]\n",
      "[70, 70, 70]\n"
     ]
    }
   ],
   "source": [
    "\"\"\"1. Write a Python Program to Add Two Matrices?\"\"\"\n",
    "\n",
    "X = [[10,10,10],\n",
    "    [20 ,20,20],\n",
    "    [30 ,30,30]]\n",
    "\n",
    "Y = [[20,20,20],\n",
    "    [30,30,30],\n",
    "    [40,40,40]]\n",
    "\n",
    "result = [[0,0,0],\n",
    "         [0,0,0],\n",
    "         [0,0,0]]\n",
    "\n",
    "for i in range(len(X)):\n",
    "    for j in range(len(X[0])):\n",
    "        result[i][j] = X[i][j] + Y[i][j]\n",
    "\n",
    "for r in result:\n",
    "    print(r)\n"
   ]
  },
  {
   "cell_type": "code",
   "execution_count": 2,
   "id": "aa7fd6ba",
   "metadata": {},
   "outputs": [
    {
     "name": "stdout",
     "output_type": "stream",
     "text": [
      "[900, 900, 900]\n",
      "[1800, 1800, 1800]\n",
      "[2700, 2700, 2700]\n"
     ]
    }
   ],
   "source": [
    "\"\"\"2. Write a Python Program to Multiply Two Matrices?\"\"\"\n",
    "X = [[10,10,10],\n",
    "    [20 ,20,20],\n",
    "    [30 ,30,30]]\n",
    "\n",
    "Y = [[20,20,20],\n",
    "    [30,30,30],\n",
    "    [40,40,40]]\n",
    "\n",
    "result = [[0,0,0],\n",
    "         [0,0,0],\n",
    "         [0,0,0]]\n",
    "\n",
    "for i in range(len(X)):\n",
    "    for j in range(len(Y[0])):\n",
    "        for k in range(len(Y)):\n",
    "            result[i][j] = result[i][j] + X[i][k] * Y[k][j]\n",
    "\n",
    "for r in result:\n",
    "    print(r)\n"
   ]
  },
  {
   "cell_type": "code",
   "execution_count": 7,
   "id": "cbcab358",
   "metadata": {},
   "outputs": [
    {
     "name": "stdout",
     "output_type": "stream",
     "text": [
      "[10, 20, 30]\n",
      "[10, 20, 30]\n",
      "[10, 20, 30]\n"
     ]
    }
   ],
   "source": [
    "\"\"\"3. Write a Python Program to Transpose a Matrix?\"\"\"\n",
    "\n",
    "X = [[10,10,10],\n",
    "    [20 ,20,20],\n",
    "    [30 ,30,30]]\n",
    "\n",
    "result = [[0,0,0],\n",
    "         [0,0,0],\n",
    "         [0,0,0]]\n",
    "\n",
    "for i in range(len(X)):\n",
    "    for j in range(len(Y[0])):\n",
    "        result[i][j]=X[j][i]\n",
    "\n",
    "for r in result:\n",
    "    print(r)"
   ]
  },
  {
   "cell_type": "code",
   "execution_count": 14,
   "id": "753a7aa9",
   "metadata": {},
   "outputs": [
    {
     "name": "stdout",
     "output_type": "stream",
     "text": [
      "Enter the sentence: i love python and enjoying coding\n",
      "The sorted words are:\n",
      "and\n",
      "coding\n",
      "enjoying\n",
      "i\n",
      "love\n",
      "python\n"
     ]
    }
   ],
   "source": [
    "\"\"\"4. Write a Python Program to Sort Words in Alphabetic Order?\"\"\"\n",
    "string= input(\"Enter the sentence: \")\n",
    "\n",
    "words = [word.lower() for word in string.split()]\n",
    "\n",
    "words.sort()\n",
    "\n",
    "\n",
    "print(\"The sorted words are:\")\n",
    "for word in words:\n",
    "    print(word)\n"
   ]
  },
  {
   "cell_type": "code",
   "execution_count": 19,
   "id": "bfa8d790",
   "metadata": {},
   "outputs": [
    {
     "name": "stdout",
     "output_type": "stream",
     "text": [
      "Hello How are you doing  Im doing good\n"
     ]
    }
   ],
   "source": [
    "\"\"\"5. Write a Python Program to Remove Punctuation From a String?\"\"\"\n",
    "\n",
    "import string \n",
    "sentence = \"Hello, How are you doing? , I'm doing good\"\n",
    "no_punc_txt = \"\"\n",
    "for char in sentence:\n",
    "    if char not in string.punctuation:\n",
    "        no_punc_txt = no_punc_txt + char\n",
    "print(no_punc_txt)              "
   ]
  },
  {
   "cell_type": "code",
   "execution_count": null,
   "id": "62d17adc",
   "metadata": {},
   "outputs": [],
   "source": []
  }
 ],
 "metadata": {
  "kernelspec": {
   "display_name": "Python 3 (ipykernel)",
   "language": "python",
   "name": "python3"
  },
  "language_info": {
   "codemirror_mode": {
    "name": "ipython",
    "version": 3
   },
   "file_extension": ".py",
   "mimetype": "text/x-python",
   "name": "python",
   "nbconvert_exporter": "python",
   "pygments_lexer": "ipython3",
   "version": "3.9.12"
  }
 },
 "nbformat": 4,
 "nbformat_minor": 5
}
