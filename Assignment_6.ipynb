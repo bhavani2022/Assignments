{
 "cells": [
  {
   "cell_type": "markdown",
   "id": "204bfe10",
   "metadata": {},
   "source": [
    "#1. What are escape characters, and how do you use them?\n",
    "\n",
    "An escape character is a backslash \\ followed by the character you want to insert."
   ]
  },
  {
   "cell_type": "markdown",
   "id": "c5d2a7bf",
   "metadata": {},
   "source": [
    "#2. What do the escape characters n and t stand for?\n",
    "\\n is newline\n",
    "\\t is tab"
   ]
  },
  {
   "cell_type": "markdown",
   "id": "ba72fe0d",
   "metadata": {},
   "source": [
    "#3. What is the way to include backslash characters in a string?\n",
    "we can use the blackslash charecter in the srting, one has to write '\\\\\\\\' as the RE string, because the regular \n",
    "expression must be \"\\\\\", and each backslash must be expressed as \"\\\\\" inside a regular Python string."
   ]
  },
  {
   "cell_type": "markdown",
   "id": "3d403992",
   "metadata": {},
   "source": [
    "#4. The string \"Howl's Moving Castle\"; is a correct value. Why isn't the single quote character in the\n",
    "#word Howl's not escaped a problem?\n",
    "\n",
    "The string Howl's Moving Castle is withing double codes where as Howl's is a single code. so it did not under any error."
   ]
  },
  {
   "cell_type": "markdown",
   "id": "b44ad620",
   "metadata": {},
   "source": [
    "#5. How do you write a string of newlines if you don&#39;t want to use the n character?\n",
    "\n",
    "The new line character in Python is \\n . It is used to indicate the end of a line of text. \n",
    "You can print strings without adding a new line with end = <character> , which <character> is the character that \n",
    "will be used to separate the lines"
   ]
  },
  {
   "cell_type": "markdown",
   "id": "7e7aa8e6",
   "metadata": {},
   "source": [
    "#\"\"\"6. What are the values of the given expressions?\n",
    "\n",
    "#\"Hello, world!\"[1]    --> 'e'\n",
    "#\"Hello, world!\"[0:5]  --> 'Hello'\n",
    "#\"Hello, world!\"[:5]   --> 'Hello'\n",
    "#\"Hello, world!\"[3:]   --> 'lo, world!'\n"
   ]
  },
  {
   "cell_type": "markdown",
   "id": "c8300f94",
   "metadata": {},
   "source": [
    "#\"\"\"7. What are the values of the following expressions?\n",
    "\n",
    "\n",
    "#\"Hello\".upper()  -->  'HELLO'\n",
    "#\"Hello\".upper().isupper()  --> True\n",
    "#\"Hello\".upper().lower() -->  'hello'\n"
   ]
  },
  {
   "cell_type": "markdown",
   "id": "6bccd2b8",
   "metadata": {},
   "source": [
    "#8. What are the values of the following expressions?\n",
    "\n",
    "#\"Remember, remember, the fifth of July\".split() --> ['Remember,', 'remember,', 'the', 'fifth', 'of', 'July']\n",
    "#\"-\".join(\"There can only one\".split()) --> 'There-can-only-one'\n",
    "\n"
   ]
  },
  {
   "cell_type": "markdown",
   "id": "bcd64dc8",
   "metadata": {},
   "source": [
    "#9. What are the methods for right-justifying, left-justifying, and centering a string?\n",
    "\n",
    "ljust(), rjust(), center() are the method for a right-justifying, left-justifying, and centering a string."
   ]
  },
  {
   "cell_type": "markdown",
   "id": "614ddf4f",
   "metadata": {},
   "source": [
    "#10. What is the best way to remove whitespace characters from the start or end?\n",
    "\n",
    "we can use trimStart() or trimEnd() method to remove the white space charecters."
   ]
  }
 ],
 "metadata": {
  "kernelspec": {
   "display_name": "Python 3 (ipykernel)",
   "language": "python",
   "name": "python3"
  },
  "language_info": {
   "codemirror_mode": {
    "name": "ipython",
    "version": 3
   },
   "file_extension": ".py",
   "mimetype": "text/x-python",
   "name": "python",
   "nbconvert_exporter": "python",
   "pygments_lexer": "ipython3",
   "version": "3.9.12"
  }
 },
 "nbformat": 4,
 "nbformat_minor": 5
}
