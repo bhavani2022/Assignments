{
 "cells": [
  {
   "cell_type": "code",
   "execution_count": 1,
   "id": "1b628f94",
   "metadata": {},
   "outputs": [
    {
     "name": "stdout",
     "output_type": "stream",
     "text": [
      "Hello Python\n"
     ]
    }
   ],
   "source": [
    "\"\"\"1. Write a Python program to print \"Hello Python\" ?\"\"\"\n",
    "\n",
    "print(\"Hello Python\")"
   ]
  },
  {
   "cell_type": "code",
   "execution_count": 2,
   "id": "227d7641",
   "metadata": {},
   "outputs": [
    {
     "name": "stdout",
     "output_type": "stream",
     "text": [
      "Addition of numbers: 12\n",
      "divistion a by b is: 5.0\n"
     ]
    }
   ],
   "source": [
    "\"\"\"2. Write a Python program to do arithmetical operations addition and division.?\"\"\"\n",
    "a=10\n",
    "b= 2\n",
    "add = a+b\n",
    "div=a/b\n",
    "print(\"Addition of numbers:\",add)\n",
    "print(\"divistion a by b is:\", div)\n"
   ]
  },
  {
   "cell_type": "code",
   "execution_count": 3,
   "id": "48dd9281",
   "metadata": {},
   "outputs": [
    {
     "name": "stdout",
     "output_type": "stream",
     "text": [
      "Enter the base12\n",
      "Enter the hight2\n",
      "Area of the triangle is: 12.0\n"
     ]
    }
   ],
   "source": [
    "\"\"\"3. Write a Python program to find the area of a triangle?\"\"\"\n",
    "base=int(input(\"Enter the base\"))\n",
    "ht=int(input(\"Enter the hight\"))\n",
    "area=(base*ht)/2\n",
    "print(\"Area of the triangle is:\",area)\n"
   ]
  },
  {
   "cell_type": "code",
   "execution_count": 17,
   "id": "55982edb",
   "metadata": {},
   "outputs": [
    {
     "name": "stdout",
     "output_type": "stream",
     "text": [
      "Enter the first variable :  12\n",
      "Enter the first variable : 34\n",
      "The value of a after swapping: 34\n",
      "The value of b after swapping:  12\n"
     ]
    }
   ],
   "source": [
    "\"\"\"4. Write a Python program to swap two variables?\"\"\"\n",
    "#swaping 2 numbers:\n",
    "a=int(input(\"Enter the first variable :  \"))\n",
    "b=int(input(\"Enter the first variable : \"))\n",
    "\n",
    "a=a+b   \n",
    "b=a-b \n",
    "a=a-b\n",
    "\n",
    "print(\"The value of a after swapping:\", a)\n",
    "print(\"The value of b after swapping: \", b)\n",
    "\n"
   ]
  },
  {
   "cell_type": "code",
   "execution_count": 21,
   "id": "acbaacb7",
   "metadata": {},
   "outputs": [
    {
     "name": "stdout",
     "output_type": "stream",
     "text": [
      "[-0.69166075 -0.39675353 -0.6871727  -0.84520564 -0.67124613 -0.0126646\n",
      " -1.11731035  0.2344157   1.65980218  0.74204416]\n"
     ]
    }
   ],
   "source": [
    "\"\"\"5. Write a Python program to generate a random number?\"\"\"\n",
    "\n",
    "from numpy.random import randn\n",
    "values = randn(10)\n",
    "print(values)"
   ]
  }
 ],
 "metadata": {
  "kernelspec": {
   "display_name": "Python 3 (ipykernel)",
   "language": "python",
   "name": "python3"
  },
  "language_info": {
   "codemirror_mode": {
    "name": "ipython",
    "version": 3
   },
   "file_extension": ".py",
   "mimetype": "text/x-python",
   "name": "python",
   "nbconvert_exporter": "python",
   "pygments_lexer": "ipython3",
   "version": "3.9.12"
  }
 },
 "nbformat": 4,
 "nbformat_minor": 5
}
