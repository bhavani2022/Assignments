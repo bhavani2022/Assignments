{
 "cells": [
  {
   "cell_type": "markdown",
   "id": "283dc738",
   "metadata": {},
   "source": [
    "#1. What is the name of the feature responsible for generating Regex objects?\n",
    "\n",
    "A RegEx, or Regular Expression, is a sequence of characters that forms a search pattern. Python has a built-in package \n",
    "called re, which can be used to work with Regular Expressions.\n",
    "Import the re module:\n",
    "compile() is the fuction which created the regex objects.\n"
   ]
  },
  {
   "cell_type": "markdown",
   "id": "971582a2",
   "metadata": {},
   "source": [
    "#2.Why do raw strings often appear in Regex objects?\n",
    "\n",
    "The raw string notation (r\"text\") keeps regular expressions meaningful and confusion-free.\n",
    "Without it, every backslash ('\\') in a regular expression would have to be prefixed with another one to escape it.\n"
   ]
  },
  {
   "cell_type": "markdown",
   "id": "82819896",
   "metadata": {},
   "source": [
    "#What is the return value of the search() method?\n",
    "\n",
    "re.search() method either returns None (if the pattern doesn't match), \n",
    "or a re. MatchObject that contains information about the matching part of the string. \n",
    "This method stops after the first match, so this is best suited for testing a regular expression more than extracting data"
   ]
  },
  {
   "cell_type": "markdown",
   "id": "8f1d5d43",
   "metadata": {},
   "source": [
    "#4. From a Match item, how do you get the actual strings that match the pattern?\n",
    "The group() method returns strings of the matched text."
   ]
  },
  {
   "cell_type": "markdown",
   "id": "eea45a25",
   "metadata": {},
   "source": [
    "#5.In the regex which created from the r'(\\d\\d\\d)-(\\d\\d\\d-\\d\\d\\d\\d)', what does group zero cover? Group 2? Group 1?\n",
    "\n",
    "Group 0 is the entire match, group 1 covers the first set of parentheses, and group 2 covers the second set of parentheses.\n"
   ]
  },
  {
   "cell_type": "markdown",
   "id": "111adbce",
   "metadata": {},
   "source": [
    "#6. In standard expression syntax, parentheses and intervals have distinct meanings.\n",
    "#How can you tell a regex that you want it to fit real parentheses and periods?\n",
    "\n",
    "\n",
    "The period (.) represents the wildcard character. Any character (except for the newline character) will be matched by a \n",
    "period in a regular expression. when you literally want a period in a regular expression you need to precede \n",
    "it with a backslash."
   ]
  },
  {
   "cell_type": "markdown",
   "id": "f0522129",
   "metadata": {},
   "source": [
    "#7. The findall() method returns a string list or a list of string tuples. What causes it to return one of the two options?\n",
    "\n",
    " If the regex has no groups, a list of strings is returned. If the regex has groups, a list of tuples of strings is returned."
   ]
  },
  {
   "cell_type": "markdown",
   "id": "f3534671",
   "metadata": {},
   "source": [
    "#8. In standard expressions, what does the | character mean?\n",
    "\n",
    "It denotes the set union of sets described by left and right side.\n",
    "Ex: R | L For example, if R describes {\"ab\", \"c\"} and L describes {\"ab\", \"d\", \"ef\"}, expression (R|L) describes {\"ab\", \"c\", \"d\", \"ef\"}. "
   ]
  },
  {
   "cell_type": "markdown",
   "id": "dcb87127",
   "metadata": {},
   "source": [
    "#9. In regular expressions, what does the character stand for?\n",
    "\n",
    "In regular expressions, what does the character stand for\n",
    "A character set is an explicit list of the characters that may qualify for a match in a search. A character set is indicated by enclosing a set of characters in brackets ([ ])\n",
    "\n",
    "Hope i understood the question properly!!!"
   ]
  },
  {
   "cell_type": "markdown",
   "id": "746653c5",
   "metadata": {},
   "source": [
    "#10.In regular expressions, what is the difference between the + and * characters?\n",
    "\n",
    "The asterisk (*) indicates zero or more occurrences of the preceding element. For example, ab*c matches \"ac\", \"abc\", \"abbc\", \"abbbc\", and so on.\n",
    "\n",
    "The plus sign (+) indicates one or more occurrences of the preceding element. For example, ab+c matches \"abc\", \"abbc\", \"abbbc\", and so on, but not \"ac\"."
   ]
  },
  {
   "cell_type": "markdown",
   "id": "3aaaa55b",
   "metadata": {},
   "source": [
    "#11. What is the difference between {4} and {4,5} in regular expression?\n",
    "\n",
    "{4} The preceding element or subexpression must occur exactly 4 times.\n",
    "{4,5} The preceding element or subexpression must occur between 4 and 5 times,  both are inclusive."
   ]
  },
  {
   "cell_type": "markdown",
   "id": "1b3a5d00",
   "metadata": {},
   "source": [
    "#12. What do you mean by the \\d, \\w, and \\s shorthand character classes signify in regular\n",
    "expressions?\n",
    "\n",
    "\\d : matches any single digit. It is same as [0-9] .\n",
    "\\w : Returns a match where the string contains any word characters (characters from a to Z, digits from 0-9,\n",
    "     and the underscore _ character)\n",
    "\\s : stands for “whitespace character”. Again, which characters this actually includes, depends on the regex flavor."
   ]
  },
  {
   "cell_type": "markdown",
   "id": "df86dda2",
   "metadata": {},
   "source": [
    "#13. What do means by \\D, \\W, and \\S shorthand character classes signify in regular expressions?\n",
    "\n",
    "\\D : (non-digit) matches any single character that is not a digit (same as [^0-9] )\n",
    "\\S : means all non white-spaced symbols\n",
    "\\W : matches any single character that doesn't match by \\w"
   ]
  },
  {
   "cell_type": "markdown",
   "id": "08ad9cbb",
   "metadata": {},
   "source": [
    "#14.What is the difference between .*? and .*?\n",
    "\n",
    "both looks same. .*?"
   ]
  },
  {
   "cell_type": "markdown",
   "id": "4d1ba9c1",
   "metadata": {},
   "source": [
    "#15. What is the syntax for matching both numbers and lowercase letters with a character class?\n",
    "\n",
    "[0-9a-z]"
   ]
  },
  {
   "cell_type": "markdown",
   "id": "acf0238b",
   "metadata": {},
   "source": [
    "#16. What is the procedure for making a normal expression in regax case insensitive?\n",
    "\n",
    "We can either use flag re.IGNORECASE or (?i) before the searcing text.\n",
    " \n",
    " Ex:\n",
    "import re\n",
    "text = \"Let it rain, let it snow, let it do!\"\n",
    "re.findall('(?i)LEt' , text)\n",
    "\n",
    "or \n",
    "\n",
    "import re\n",
    "re.findall('the', 'The sources informed the police of tHe thieves.', re.IGNORECASE)"
   ]
  },
  {
   "cell_type": "markdown",
   "id": "a63d19da",
   "metadata": {},
   "source": [
    "#17. What does the . character normally match? What does it match if re.DOTALL is passed as 2nd argument in re.compile()?\n",
    "\n",
    "Normally the . (period) special character matches any single character except \\n. But If re. DOTALL is passed as the second argument to re. compile(), then the dot will also match newline characters.\n",
    "\n"
   ]
  },
  {
   "cell_type": "markdown",
   "id": "1180be8c",
   "metadata": {},
   "source": [
    "#18. If numReg = re.compile(r'\\d+'), what will numRegex.sub('X', '11 drummers, 10 pipers, five rings, 4 hen') return?\n",
    "\n",
    "X drummers, X pipers, five rings, X hens"
   ]
  },
  {
   "cell_type": "markdown",
   "id": "4df6f020",
   "metadata": {},
   "source": [
    "#19. What does passing re.VERBOSE as the 2nd argument to re.compile() allow to do?\n",
    "\n",
    "It ignores whitespace and comments inside the regular expression string."
   ]
  },
  {
   "cell_type": "markdown",
   "id": "4c1638f1",
   "metadata": {},
   "source": [
    "#20. How would you write a regex that match a number with comma for every three digits? It must match the given following:\n",
    "'42'\n",
    "'1,234'\n",
    "'6,368,745'\n",
    "but not the following:\n",
    "'12,34,567' (which has only two digits between the commas)\n",
    "'1234' (which lacks commas)\n",
    "\n",
    "numCommas = re.compile(r'(^\\d{1,3})(,\\d{3})*$') numCommas.search('12,34,567').group()"
   ]
  },
  {
   "cell_type": "markdown",
   "id": "e9534809",
   "metadata": {},
   "source": [
    "#21. How would you write a regex that matches the full name of someone whose last name is Watanabe? You can assume that the first name that comes before it will always be one word that begins with a capital letter. The regex must match the following:\n",
    "'Haruto Watanabe'\n",
    "'Alice Watanabe'\n",
    "'RoboCop Watanabe'\n",
    "but not the following:\n",
    "'haruto Watanabe' (where the first name is not capitalized)\n",
    "'Mr. Watanabe' (where the preceding word has a nonletter character)\n",
    "'Watanabe' (which has no first name)\n",
    "'Haruto watanabe' (where Watanabe is not capitalized)\n",
    "\n",
    "fullName = re.compile(r'[A-Z]\\w [A-Z]\\w') mo = fullName.findall('Haruto Watanabe, haruto Watanabe, Alice Watanabe, Watanabe, Haruto watanabe, RoboCop Watanabe') mo.group()\n",
    "\n"
   ]
  },
  {
   "cell_type": "markdown",
   "id": "809fb645",
   "metadata": {},
   "source": [
    "#22. How would you write a regex that matches a sentence where the first word is either Alice, Bob, or Carol; the second word is either eats, pets, or throws; the third word is apples, cats, or baseballs; and the sentence ends with a period? This regex should be case-insensitive. It must match the following:\n",
    "'Alice eats apples.'\n",
    "'Bob pets cats.'\n",
    "'Carol throws baseballs.'\n",
    "'Alice throws Apples.'\n",
    "'BOB EATS CATS.'\n",
    "but not the following:\n",
    "'RoboCop eats apples.'\n",
    "'ALICE THROWS FOOTBALLS.'\n",
    "'Carol eats 7 cats.'\n",
    "\n",
    "senRegex = re.compile(r'(Alice|Bob|Carol)\\s(eats|pets|throws)\\s(apples|cats|baseballs).', re.I|re.DOTALL)\n"
   ]
  }
 ],
 "metadata": {
  "kernelspec": {
   "display_name": "Python 3 (ipykernel)",
   "language": "python",
   "name": "python3"
  },
  "language_info": {
   "codemirror_mode": {
    "name": "ipython",
    "version": 3
   },
   "file_extension": ".py",
   "mimetype": "text/x-python",
   "name": "python",
   "nbconvert_exporter": "python",
   "pygments_lexer": "ipython3",
   "version": "3.9.12"
  }
 },
 "nbformat": 4,
 "nbformat_minor": 5
}
