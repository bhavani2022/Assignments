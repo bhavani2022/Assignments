{
 "cells": [
  {
   "cell_type": "code",
   "execution_count": 3,
   "id": "1c8be4dd",
   "metadata": {},
   "outputs": [
    {
     "name": "stdout",
     "output_type": "stream",
     "text": [
      "Enter the string:  bhavani\n",
      "enter the length of the string:  3\n",
      "The word is greater than the given length\n"
     ]
    }
   ],
   "source": [
    "\"\"\"1. Write a Python program to find words which are greater than given length k??\"\"\"\n",
    "\n",
    "string=input(\"Enter the string:  \")\n",
    "length=int(input(\"enter the length of the string:  \"))\n",
    "str_length= len(string)\n",
    "if str_length > length :\n",
    "    print(\"The word is greater than the given length\")\n",
    "else:\n",
    "    print(\"The word is of lesser length\")"
   ]
  },
  {
   "cell_type": "code",
   "execution_count": 4,
   "id": "c27b2902",
   "metadata": {},
   "outputs": [
    {
     "name": "stdout",
     "output_type": "stream",
     "text": [
      "Enter the string: my name is bhavani and i am learning Data science\n",
      "Enter the length of the string: 4\n",
      "bhavani,learning,science\n"
     ]
    }
   ],
   "source": [
    "\"\"\"1. Write a Python program to find words which are greater than given length k??\"\"\"\n",
    "\n",
    "def checkLengthOfString():\n",
    "    in_string = input(\"Enter the string: \")\n",
    "    in_length = int(input('Enter the length of the string: '))\n",
    "    out_string = []\n",
    "    for string in in_string.split(\" \"):\n",
    "        if len(string) > in_length:\n",
    "            out_string.append(string)\n",
    "    print(','.join(out_string))\n",
    "\n",
    "checkLengthOfString()"
   ]
  },
  {
   "cell_type": "code",
   "execution_count": 12,
   "id": "e782a02c",
   "metadata": {},
   "outputs": [
    {
     "name": "stdout",
     "output_type": "stream",
     "text": [
      "Enter the string: bhavanirhegde\n",
      "Enter the ith Charachter which shd be removed: 5\n",
      " bhavairhegde\n"
     ]
    }
   ],
   "source": [
    "\"\"\"2. Write a Python program for removing i-th character from a string??\"\"\"\n",
    "def removechar():\n",
    "    in_string = input(\"Enter the string: \")\n",
    "    ith_char= int(input('Enter the ith Charachter which shd be removed: '))\n",
    "    out_string = \" \"\n",
    "    for i in range(len(in_string)):\n",
    "        if i != ith_char:\n",
    "            out_string = out_string + in_string[i]\n",
    "    print(out_string)\n",
    "\n",
    "removechar()"
   ]
  },
  {
   "cell_type": "code",
   "execution_count": 17,
   "id": "49546570",
   "metadata": {},
   "outputs": [
    {
     "name": "stdout",
     "output_type": "stream",
     "text": [
      "Enter the string: IAamABhavaniAandAIAloveAPython\n",
      "Splitting of the string is:  ['I', 'am', 'Bhavani', 'and', 'I', 'love', 'Python']\n",
      "Join of the string is : I#am#Bhavani#and#I#love#Python\n"
     ]
    }
   ],
   "source": [
    "\"\"\"3. Write a Python program to split and join a string??\"\"\"\n",
    "def SplitandJoin():\n",
    "    in_string = input(\"Enter the string: \")\n",
    "    split_str=in_string.split(\"A\")\n",
    "    print(\"Splitting of the string is: \",split_str)\n",
    "    join_str= \"#\".join(split_str)\n",
    "    print(\"Join of the string is :\", join_str)\n",
    "\n",
    "SplitandJoin()"
   ]
  },
  {
   "cell_type": "code",
   "execution_count": 24,
   "id": "b6b0f5c9",
   "metadata": {},
   "outputs": [
    {
     "name": "stdout",
     "output_type": "stream",
     "text": [
      "Enter the string: 10101\n",
      "10101 is Binary string\n"
     ]
    }
   ],
   "source": [
    "\"\"\"4. Write a Python to check if a given string is binary string or not??\"\"\"\n",
    "def checkBinary():\n",
    "    in_string = input('Enter the string: ')\n",
    "    stun = 0\n",
    "    for ele in in_string:\n",
    "        if ele in ['0','1']:\n",
    "            stun = 1\n",
    "            continue\n",
    "        else:\n",
    "            stun = 0\n",
    "            break\n",
    "    if stun == 1:\n",
    "        print(in_string , \"is Binary string\")\n",
    "    else:\n",
    "        print(in_string , \"is  not a Binary string\")\n",
    "\n",
    "checkBinary()\n",
    "\n"
   ]
  },
  {
   "cell_type": "code",
   "execution_count": 34,
   "id": "62d2e2cc",
   "metadata": {},
   "outputs": [
    {
     "name": "stdout",
     "output_type": "stream",
     "text": [
      "Enter the first string: I am learning Python in Ineuron\n",
      "Enter the second string: learning Python is fun\n",
      "['I', 'am', 'in', 'Ineuron', 'is', 'fun']\n"
     ]
    }
   ],
   "source": [
    "\"\"\"5. Write a Python program to find uncommon words from two Strings??\"\"\"\n",
    "def uncommon():\n",
    "    in_string_1 = input('Enter the first string: ')\n",
    "    in_string_2 = input('Enter the second string: ')\n",
    "    split_in_string_1=in_string_1.split(\" \")\n",
    "    split_in_string_2=in_string_2.split(\" \")\n",
    "    out_string = []\n",
    "\n",
    "    for i in split_in_string_1 :\n",
    "        if i not in split_in_string_2:\n",
    "            out_string.append(i)\n",
    "\n",
    "    for j in split_in_string_2 :\n",
    "        if j not in split_in_string_1:\n",
    "            out_string.append(j)\n",
    "\n",
    "    print(out_string)      \n",
    "\n",
    "uncommon()"
   ]
  },
  {
   "cell_type": "code",
   "execution_count": 44,
   "id": "5654fac7",
   "metadata": {},
   "outputs": [
    {
     "name": "stdout",
     "output_type": "stream",
     "text": [
      "Enter the first string: bhavanirhegde\n",
      "The duplicate characters are:  ['h', 'a', 'e']\n"
     ]
    }
   ],
   "source": [
    "\"\"\"6. Write a Python to find all duplicate characters in string??\"\"\"\n",
    "def dupchar():\n",
    "    in_string = input('Enter the first string: ')\n",
    "    out_string=[]\n",
    "\n",
    "    for j in set(in_string):\n",
    "        if in_string.count(j) == 2 :\n",
    "            out_string.append(j)\n",
    "    print(\"The duplicate characters are: \", out_string)\n",
    "\n",
    "dupchar()"
   ]
  },
  {
   "cell_type": "code",
   "execution_count": 47,
   "id": "93fae807",
   "metadata": {},
   "outputs": [
    {
     "name": "stdout",
     "output_type": "stream",
     "text": [
      "Enter any string: @bhavani\n",
      "The string contains special characters.\n"
     ]
    }
   ],
   "source": [
    "\"\"\"7. Write a Python Program to check if a string contains any special character?\"\"\"\n",
    "import re\n",
    "\n",
    "string = input('Enter any string: ')\n",
    "special_char = re.compile('[@_!#$%^&*()<>?/\\|}{~:]')\n",
    "if(special_char.search(string) == None):\n",
    "    print('String does not contain any special characters.')\n",
    "else:\n",
    "    print('The string contains special characters.')\n",
    "\n"
   ]
  },
  {
   "cell_type": "code",
   "execution_count": null,
   "id": "20e73d86",
   "metadata": {},
   "outputs": [],
   "source": []
  },
  {
   "cell_type": "code",
   "execution_count": null,
   "id": "f30c050e",
   "metadata": {},
   "outputs": [],
   "source": []
  }
 ],
 "metadata": {
  "kernelspec": {
   "display_name": "Python 3 (ipykernel)",
   "language": "python",
   "name": "python3"
  },
  "language_info": {
   "codemirror_mode": {
    "name": "ipython",
    "version": 3
   },
   "file_extension": ".py",
   "mimetype": "text/x-python",
   "name": "python",
   "nbconvert_exporter": "python",
   "pygments_lexer": "ipython3",
   "version": "3.9.12"
  }
 },
 "nbformat": 4,
 "nbformat_minor": 5
}
