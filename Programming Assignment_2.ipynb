{
 "cells": [
  {
   "cell_type": "code",
   "execution_count": 4,
   "id": "a880d6d0",
   "metadata": {},
   "outputs": [
    {
     "name": "stdout",
     "output_type": "stream",
     "text": [
      "Enter the value in kilometer: 5\n",
      "Enterd value is converted to miles and it is:  3.106855\n"
     ]
    }
   ],
   "source": [
    "\"\"\"1. Write a Python program to convert kilometers to miles?\"\"\"\n",
    "km=int(input(\"Enter the value in kilometer: \"))\n",
    "miles= 0.621371*km\n",
    "\n",
    "print(\"Enterd value is converted to miles and it is: \", miles)"
   ]
  },
  {
   "cell_type": "code",
   "execution_count": 8,
   "id": "4a5feeb5",
   "metadata": {},
   "outputs": [
    {
     "name": "stdout",
     "output_type": "stream",
     "text": [
      "Enter the value in celcius: 4\n",
      "Enterd value is converted to miles and it is:  39.2\n"
     ]
    }
   ],
   "source": [
    "\"\"\"2. Write a Python program to convert Celsius to Fahrenheit?\"\"\"\n",
    "cel=int(input(\"Enter the value in celcius: \"))\n",
    "fahr=(cel * 9/5) + 32 \n",
    "\n",
    "print(\"Enterd value is converted to miles and it is: \", fahr)\n"
   ]
  },
  {
   "cell_type": "code",
   "execution_count": 1,
   "id": "90c0c2cd",
   "metadata": {},
   "outputs": [
    {
     "name": "stdout",
     "output_type": "stream",
     "text": [
      "     June 2022\n",
      "Mo Tu We Th Fr Sa Su\n",
      "       1  2  3  4  5\n",
      " 6  7  8  9 10 11 12\n",
      "13 14 15 16 17 18 19\n",
      "20 21 22 23 24 25 26\n",
      "27 28 29 30\n",
      "\n"
     ]
    }
   ],
   "source": [
    "\"\"\"3. Write a Python program to display calendar?\"\"\"\n",
    "import calendar\n",
    "year = 2022\n",
    "month = 6\n",
    "print(calendar.month(year, month))"
   ]
  },
  {
   "cell_type": "code",
   "execution_count": 4,
   "id": "ae89f29c",
   "metadata": {},
   "outputs": [
    {
     "name": "stdout",
     "output_type": "stream",
     "text": [
      "Enter the value of a:   1\n",
      "Enter the value of b:   5\n",
      "Enter the value of c:   6\n",
      "The solution are :   (-3+0j) (-2+0j)\n"
     ]
    }
   ],
   "source": [
    "\"\"\"4. Write a Python program to solve quadratic equation?\"\"\"\n",
    "# ax2+bx+c=0 whare a!=0 and a,b,c are real numbers\n",
    "\n",
    "import cmath\n",
    "\n",
    "a = int(input(\"Enter the value of a:   \"))\n",
    "b = int(input(\"Enter the value of b:   \"))\n",
    "c = int(input(\"Enter the value of c:   \"))\n",
    "\n",
    "\n",
    "d = (b**2) - (4*a*c)\n",
    "\n",
    "sol1 = (-b-cmath.sqrt(d))/(2*a)\n",
    "sol2 = (-b+cmath.sqrt(d))/(2*a)\n",
    "\n",
    "print('The solution are :  ' , sol1,sol2)"
   ]
  },
  {
   "cell_type": "code",
   "execution_count": 5,
   "id": "3a688013",
   "metadata": {},
   "outputs": [
    {
     "name": "stdout",
     "output_type": "stream",
     "text": [
      "Enter the first variable :  1\n",
      "Enter the first variable : 2\n",
      "The value of a after swapping: 2\n",
      "The value of b after swapping:  1\n"
     ]
    }
   ],
   "source": [
    "\"\"\"5. Write a Python program to swap two variables without temp variable?\"\"\"\n",
    "a=int(input(\"Enter the first variable :  \"))\n",
    "b=int(input(\"Enter the first variable : \"))\n",
    "\n",
    "a=a+b   \n",
    "b=a-b \n",
    "a=a-b\n",
    "\n",
    "print(\"The value of a after swapping:\", a)\n",
    "print(\"The value of b after swapping: \", b)"
   ]
  },
  {
   "cell_type": "code",
   "execution_count": null,
   "id": "4058b96f",
   "metadata": {},
   "outputs": [],
   "source": []
  }
 ],
 "metadata": {
  "kernelspec": {
   "display_name": "Python 3 (ipykernel)",
   "language": "python",
   "name": "python3"
  },
  "language_info": {
   "codemirror_mode": {
    "name": "ipython",
    "version": 3
   },
   "file_extension": ".py",
   "mimetype": "text/x-python",
   "name": "python",
   "nbconvert_exporter": "python",
   "pygments_lexer": "ipython3",
   "version": "3.9.12"
  }
 },
 "nbformat": 4,
 "nbformat_minor": 5
}
