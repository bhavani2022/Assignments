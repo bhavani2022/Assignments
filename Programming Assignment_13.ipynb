{
 "cells": [
  {
   "cell_type": "code",
   "execution_count": 8,
   "id": "b6e754ba",
   "metadata": {},
   "outputs": [
    {
     "name": "stdout",
     "output_type": "stream",
     "text": [
      "[18, 22, 24]\n"
     ]
    }
   ],
   "source": [
    "\"\"\"Question 1:\n",
    "Write a program that calculates and prints the value according to the given formula:\n",
    "Q = Square root of [(2 * C * D)/H]\n",
    "Following are the fixed values of C and H:\n",
    "C is 50. H is 30.\n",
    "D is the variable whose values should be input to your program in a comma-separated\n",
    "sequence.\n",
    "Example\n",
    "Let us assume the following comma separated input sequence is given to the program:\n",
    "100,150,180\n",
    "The output of the program should be:\n",
    "18,22,24\"\"\"\n",
    "\n",
    "\n",
    "from math import sqrt\n",
    "def sqroot(c,h,*d):\n",
    "    l=[]\n",
    "    for i in d:\n",
    "        sroot=int(sqrt((2*c*i)/h))\n",
    "        l.append(sroot)\n",
    "    print(l)\n",
    "\n",
    "\n",
    "sqroot(50,30,100,150,180)"
   ]
  },
  {
   "cell_type": "code",
   "execution_count": 11,
   "id": "cd14b17d",
   "metadata": {},
   "outputs": [
    {
     "name": "stdout",
     "output_type": "stream",
     "text": [
      "Enter the No of Rows:3\n",
      "Enter the No of Columns:4\n",
      "[[0, 0, 0, 0], [0, 1, 2, 3], [0, 2, 4, 6]]\n"
     ]
    }
   ],
   "source": [
    "\"\"\"\n",
    "Question 2:\n",
    "Write a program which takes 2 digits, X,Y as input and generates a 2-dimensional array. The\n",
    "element value in the i-th row and j-th column of the array should be i*j.\n",
    "Note: i=0,1.., X-1; j=0,1,¡Y-1.\n",
    "Example\n",
    "Suppose the following inputs are given to the program:\n",
    "3,5\n",
    "Then, the output of the program should be:\n",
    "[[0, 0, 0, 0, 0], [0, 1, 2, 3, 4], [0, 2, 4, 6, 8]]\"\"\"\n",
    "\n",
    "import array as arr\n",
    "def generateArray():\n",
    "    in1 = int(input('Enter the No of Rows:'))\n",
    "    in2 = int(input('Enter the No of Columns:')) \n",
    "    out_array = []\n",
    "    for i in range(in1):\n",
    "        out_array.insert(in1,[])\n",
    "        for j in range(in2):\n",
    "            out_array[i].append(i*j)\n",
    "    print(out_array)\n",
    "    \n",
    "generateArray()\n"
   ]
  },
  {
   "cell_type": "code",
   "execution_count": 22,
   "id": "bc7b3bf2",
   "metadata": {},
   "outputs": [
    {
     "name": "stdout",
     "output_type": "stream",
     "text": [
      "Enter the Input: without,hello,bag,world\n",
      "Enterd words :   without,hello,bag,world\n",
      "Words after sorting:   bag,hello,without,world\n"
     ]
    }
   ],
   "source": [
    "\"\"\"Question 3:\n",
    "Write a program that accepts a comma separated sequence of words as input and prints the\n",
    "words in a comma-separated sequence after sorting them alphabetically.\n",
    "Suppose the following input is supplied to the program:\n",
    "without,hello,bag,world\n",
    "Then, the output should be:\n",
    "bag,hello,without,world\n",
    "\"\"\"\n",
    "\n",
    "words = input(\"Enter the Input: \")\n",
    "print(\"Enterd words :  \", words)\n",
    "sort= ','.join(sorted(words.split(',')))\n",
    "print(\"Words after sorting:  \", sort)\n"
   ]
  },
  {
   "cell_type": "code",
   "execution_count": 30,
   "id": "a6ddef43",
   "metadata": {},
   "outputs": [
    {
     "name": "stdout",
     "output_type": "stream",
     "text": [
      "Enter the Input: hello world and practice makes perfect and hello world again\n",
      "Enterd words :   hello world and practice makes perfect and hello world again\n",
      "Words after sorting:   again,and,and,hello,hello,makes,perfect,practice,world,world\n",
      "After removing the duplicate:   again and hello makes perfect practice world\n"
     ]
    }
   ],
   "source": [
    "\"\"\"Question 4:\n",
    "Write a program that accepts a sequence of whitespace separated words as input and prints\n",
    "the words after removing all duplicate words and sorting them alphanumerically.\n",
    "Suppose the following input is supplied to the program:\n",
    "hello world and practice makes perfect and hello world again\n",
    "Then, the output should be:\n",
    "again and hello makes perfect practice world\n",
    "\"\"\"\n",
    "sinlge=()\n",
    "words = input(\"Enter the Input: \")\n",
    "print(\"Enterd words :  \", words)\n",
    "sort= ','.join(sorted(words.split(' ')))\n",
    "print(\"Words after sorting:  \", sort)\n",
    "single = ' '.join(sorted(list(set(sort.split(\",\")))))\n",
    "print(\"After removing the duplicate:  \",single)"
   ]
  },
  {
   "cell_type": "code",
   "execution_count": 44,
   "id": "2b630ec8",
   "metadata": {},
   "outputs": [
    {
     "name": "stdout",
     "output_type": "stream",
     "text": [
      "Enter the Input: hello world! 123\n",
      "Enterd words :   hello world! 123\n",
      "Total number of letters:   10\n",
      "Total number of integers:   3\n"
     ]
    }
   ],
   "source": [
    "\"\"\"Question 5:\n",
    "Write a program that accepts a sentence and calculate the number of letters and digits.\n",
    "Suppose the following input is supplied to the program:\n",
    "hello world! 123\n",
    "Then, the output should be:\n",
    "LETTERS 10\"\"\"\n",
    "\n",
    "\n",
    "words = input(\"Enter the Input: \")\n",
    "print(\"Enterd words :  \", words)\n",
    "lettersList = 'ABCDEFGHIJKLMNOPQRSTUVWXYZabcdefghijklmnopqrstuvwxyz'\n",
    "digitsList = '0123456789'\n",
    "wcount=0\n",
    "icount=0\n",
    "for i in words:\n",
    "    if i in lettersList :\n",
    "        wcount=wcount+1\n",
    "    if i in digitsList :\n",
    "        icount = icount +1\n",
    "print(\"Total number of letters:  \", wcount)\n",
    "print(\"Total number of integers:  \",icount)\n"
   ]
  },
  {
   "cell_type": "code",
   "execution_count": 47,
   "id": "fc5da018",
   "metadata": {},
   "outputs": [
    {
     "name": "stdout",
     "output_type": "stream",
     "text": [
      "Enter the Input String: Abhava@12,bhavani@12,fdjfh,545,s4fd\n",
      "Abhava@12\n"
     ]
    }
   ],
   "source": [
    "\"\"\"Question 6:\n",
    "A website requires the users to input username and password to register. Write a program to\n",
    "check the validity of password input by users.\n",
    "Following are the criteria for checking the password:\n",
    "1. At least 1 letter between [a-z]\n",
    "2. At least 1 number between [0-9]\n",
    "1. At least 1 letter between [A-Z]\n",
    "3. At least 1 character from [$#@]\n",
    "4. Minimum length of transaction password: 6\n",
    "5. Maximum length of transaction password: 12\n",
    "Your program should accept a sequence of comma separated passwords and will check them\n",
    "according to the above criteria. Passwords that match the criteria are to be printed, each\n",
    "separated by a comma.\n",
    "Example\n",
    "If the following passwords are given as input to the program:\n",
    "ABd1234@1,a F1#,2w3E*,2We3345\n",
    "Then, the output of the program should be:\n",
    "ABd1234@1\"\"\"\n",
    "\n",
    "def checkPassword():\n",
    "    password = input(\"Enter the Input String: \")\n",
    "    small_list = \"abcdefghijklmnopqrstuvwxyz\"\n",
    "    cap_list = \"ABCDEFGHIJKLMNOPQRSTUVWXYZ\"\n",
    "    num_list = \"0123456789\"\n",
    "    special_list = \"$#@\"\n",
    "    for ele in password.split(\",\"):\n",
    "            if len(ele) <= 12 and len(ele) >=6 :\n",
    "                 if any(i.isupper() for i in ele):\n",
    "                    if any(i.islower() for i in ele):\n",
    "                        if any(i for i in ele if i in special_list):\n",
    "                            print(ele)\n",
    "                            \n",
    "                            \n",
    "checkPassword()"
   ]
  },
  {
   "cell_type": "code",
   "execution_count": null,
   "id": "2535280f",
   "metadata": {},
   "outputs": [],
   "source": []
  }
 ],
 "metadata": {
  "kernelspec": {
   "display_name": "Python 3 (ipykernel)",
   "language": "python",
   "name": "python3"
  },
  "language_info": {
   "codemirror_mode": {
    "name": "ipython",
    "version": 3
   },
   "file_extension": ".py",
   "mimetype": "text/x-python",
   "name": "python",
   "nbconvert_exporter": "python",
   "pygments_lexer": "ipython3",
   "version": "3.9.12"
  }
 },
 "nbformat": 4,
 "nbformat_minor": 5
}
