{
 "cells": [
  {
   "cell_type": "markdown",
   "id": "df6a0863",
   "metadata": {},
   "source": [
    "\"\"\"1. In the below elements which of them are values or an expression? eg:- values can be integer or string and expressions will be mathematical operators.\n",
    "* \n",
    "'hello'\n",
    "-87.8\n",
    "- \n",
    "/ \n",
    "+\n",
    "6 \n",
    "\"\"\"\n",
    "Values:\n",
    "   'hello'\n",
    "    -87.8\n",
    "    6\n",
    "    \n",
    "Expression:\n",
    "    *\n",
    "    - \n",
    "    / \n",
    "    +"
   ]
  },
  {
   "cell_type": "markdown",
   "id": "ceba5926",
   "metadata": {},
   "source": [
    "\"\"\"2. What is the difference between string and variable?\"\"\"\n",
    "\n",
    "String is one of the datatype where as variable is the name where the data is stored.\n",
    "Ex: var = \"bhavani\"\n",
    " Here var is variable name where the string \"bhavani\" is stored and datatype of variable var is String."
   ]
  },
  {
   "cell_type": "markdown",
   "id": "42e95d06",
   "metadata": {},
   "source": [
    "\"\"\"3. Describe three different data types.\"\"\"\n",
    "\n",
    "Every programming languages support different kind of data types. To name few; Integer, Floating , String, Boolean, Complex, List, Tuple, Dictionary, Set etc.. \n",
    "In python we can check the data type by giving the command type(variable_name).\n",
    "ex: var1=123\n",
    "    type(var1) \n",
    "    o/p : int\n",
    "\n",
    "Integer: This is one of the data types available in programming lanhuages. Usually it is represented as Int. Integer datatype store the numbers without decimals. Ex: 1243, 54645, 345342\n",
    "\n",
    "Floating:This is another data types available in programming lanhuages. Usually it is represented as float. Floating datatype store the numbers with decimals. Ex: 123.23,  12121.53, 1232.0\n",
    "\n",
    "String:This is another data types available in programming lanhuages. Usually it is represented as str. string variable is assigned inside \"  \"(double codes) or '  '(single codes). If even the number is assigned inbetween double codes it considers it as string. Ex : \"bhavani\" ,'hegde' , \"1233\"\n"
   ]
  },
  {
   "cell_type": "markdown",
   "id": "610c7e50",
   "metadata": {},
   "source": [
    "\"\"\"4. What is an expression made up of? What do all expressions do?\"\"\"\n",
    "\n",
    "An expression is  made up of variables, operators and method invocation which are constructed according to the syntax of the programming languages. The result of the expression will be always the single value. Ex Var =2-3+4, Here var is the variable where the result is stored.2,3,4 are the values and  - & + are the operators."
   ]
  },
  {
   "cell_type": "markdown",
   "id": "a164ad94",
   "metadata": {},
   "source": [
    "\"\"\"5. This assignment statements, like spam = 10. What is the difference between an expression and a statement?\"\"\"\n",
    "\n",
    "An expression always evaluates a value , Ex 2+12. where as a assignment statement asssigns a value to a variable. Ex spam = 10 here value 10 is assigned to a variable spam which can be used later in the program.\n",
    "Every expression cant be a assignment statemen where as every assignment statement is an expression."
   ]
  },
  {
   "cell_type": "code",
   "execution_count": 6,
   "id": "2cde6955",
   "metadata": {},
   "outputs": [
    {
     "data": {
      "text/plain": [
       "23"
      ]
     },
     "execution_count": 6,
     "metadata": {},
     "output_type": "execute_result"
    }
   ],
   "source": [
    "\"\"\"6. After running the following code, what does the variable bacon contain?\"\"\"\n",
    "bacon = 22\n",
    "bacon + 1\n",
    "\"\"\"bacon contains the value 23\"\"\""
   ]
  },
  {
   "cell_type": "code",
   "execution_count": 5,
   "id": "584fb642",
   "metadata": {},
   "outputs": [
    {
     "data": {
      "text/plain": [
       "'spamspamspam'"
      ]
     },
     "execution_count": 5,
     "metadata": {},
     "output_type": "execute_result"
    }
   ],
   "source": [
    "\"\"\"7. What should the values of the following two terms be?\"\"\"\n",
    "\n",
    "'spam' + 'spamspam'\n",
    "'spam' * 3\n",
    "\n",
    "Both returns the same string.  "
   ]
  },
  {
   "cell_type": "markdown",
   "id": "99f4747f",
   "metadata": {},
   "source": [
    "\"\"\"8. Why is eggs a valid variable name while 100 is invalid?\"\"\"\n",
    "\n",
    "Variable name may contain letters, digits or the underscore character but it should follow some of the rules like\n",
    "1. variable name must begin with a letter or the underscore. Ex: bhavani, bhavani_, _bhavani, _bhavani_ etc...\n",
    "2. variable name should NOT start with number. Ex: 1bhavani, 100bhavani are invalid variable names etc...\n",
    "3. variable name may contain mixture of upper and lower case letters. Ex: Bhavani,BHAvani  etc...\n",
    "4. variable name should NOT be of any reserved word list. Ex : and, in, False, True  etc...\n",
    "\n",
    "eggs contains only letters and this is not the reserved word list. so it can be a variable name  where as 100 is a number so it cannot be a variable name. "
   ]
  },
  {
   "cell_type": "code",
   "execution_count": 26,
   "id": "e96e19a5",
   "metadata": {},
   "outputs": [
    {
     "ename": "SyntaxError",
     "evalue": "cannot assign to literal (Temp/ipykernel_15604/4189977605.py, line 1)",
     "output_type": "error",
     "traceback": [
      "\u001b[1;36m  File \u001b[1;32m\"C:\\Users\\AADYA\\AppData\\Local\\Temp/ipykernel_15604/4189977605.py\"\u001b[1;36m, line \u001b[1;32m1\u001b[0m\n\u001b[1;33m    100 = 345\u001b[0m\n\u001b[1;37m    ^\u001b[0m\n\u001b[1;31mSyntaxError\u001b[0m\u001b[1;31m:\u001b[0m cannot assign to literal\n"
     ]
    }
   ],
   "source": [
    "100 = 345"
   ]
  },
  {
   "cell_type": "code",
   "execution_count": 27,
   "id": "a43fe6ab",
   "metadata": {},
   "outputs": [
    {
     "data": {
      "text/plain": [
       "34445"
      ]
     },
     "execution_count": 27,
     "metadata": {},
     "output_type": "execute_result"
    }
   ],
   "source": [
    "eggs = 34445\n",
    "eggs"
   ]
  },
  {
   "cell_type": "markdown",
   "id": "0c0d6b4c",
   "metadata": {},
   "source": [
    "\"\"\"9. What three functions can be used to get the integer, floating-point number, or string version of a value?\"\"\"\n",
    "\n",
    "The three functions are int(),float() and str(). Below are the examples. "
   ]
  },
  {
   "cell_type": "code",
   "execution_count": 14,
   "id": "8623c2fe",
   "metadata": {},
   "outputs": [
    {
     "data": {
      "text/plain": [
       "123"
      ]
     },
     "execution_count": 14,
     "metadata": {},
     "output_type": "execute_result"
    }
   ],
   "source": [
    "val= 123.3\n",
    "int(val)"
   ]
  },
  {
   "cell_type": "code",
   "execution_count": 15,
   "id": "070aaa17",
   "metadata": {},
   "outputs": [
    {
     "data": {
      "text/plain": [
       "123.3"
      ]
     },
     "execution_count": 15,
     "metadata": {},
     "output_type": "execute_result"
    }
   ],
   "source": [
    "float(val)"
   ]
  },
  {
   "cell_type": "code",
   "execution_count": 16,
   "id": "9483ba2d",
   "metadata": {},
   "outputs": [
    {
     "data": {
      "text/plain": [
       "'123.3'"
      ]
     },
     "execution_count": 16,
     "metadata": {},
     "output_type": "execute_result"
    }
   ],
   "source": [
    "str(val)"
   ]
  },
  {
   "cell_type": "markdown",
   "id": "89a33d3d",
   "metadata": {},
   "source": [
    "\"\"\"10. Why does this expression cause an error? How can you fix it?\n",
    "'I have eaten ' + 99 + ' burritos.'\n",
    "\"\"\"\n",
    "\n",
    "The concatenate operation works only if the data type of all the operands are same.  Here we have 2 string type operands and one int type operand. so we are getting the error. We can fix this problem by converting the int type to string type by putting it inside \"\" or ''."
   ]
  },
  {
   "cell_type": "code",
   "execution_count": 18,
   "id": "0e58baff",
   "metadata": {},
   "outputs": [
    {
     "ename": "TypeError",
     "evalue": "can only concatenate str (not \"int\") to str",
     "output_type": "error",
     "traceback": [
      "\u001b[1;31m---------------------------------------------------------------------------\u001b[0m",
      "\u001b[1;31mTypeError\u001b[0m                                 Traceback (most recent call last)",
      "\u001b[1;32m~\\AppData\\Local\\Temp/ipykernel_15604/1774935878.py\u001b[0m in \u001b[0;36m<module>\u001b[1;34m\u001b[0m\n\u001b[1;32m----> 1\u001b[1;33m \u001b[1;34m'I have eaten '\u001b[0m \u001b[1;33m+\u001b[0m \u001b[1;36m99\u001b[0m \u001b[1;33m+\u001b[0m \u001b[1;34m' burritos.'\u001b[0m\u001b[1;33m\u001b[0m\u001b[1;33m\u001b[0m\u001b[0m\n\u001b[0m",
      "\u001b[1;31mTypeError\u001b[0m: can only concatenate str (not \"int\") to str"
     ]
    }
   ],
   "source": [
    "'I have eaten ' + 99 + ' burritos.'"
   ]
  },
  {
   "cell_type": "code",
   "execution_count": 19,
   "id": "0b4f8663",
   "metadata": {},
   "outputs": [
    {
     "data": {
      "text/plain": [
       "'I have eaten 99 burritos.'"
      ]
     },
     "execution_count": 19,
     "metadata": {},
     "output_type": "execute_result"
    }
   ],
   "source": [
    "'I have eaten ' + '99' + ' burritos.'"
   ]
  },
  {
   "cell_type": "code",
   "execution_count": 20,
   "id": "25da7921",
   "metadata": {},
   "outputs": [
    {
     "data": {
      "text/plain": [
       "'I have eaten 99 burritos.'"
      ]
     },
     "execution_count": 20,
     "metadata": {},
     "output_type": "execute_result"
    }
   ],
   "source": [
    "'I have eaten ' + \"99\" + ' burritos.'"
   ]
  }
 ],
 "metadata": {
  "kernelspec": {
   "display_name": "Python 3 (ipykernel)",
   "language": "python",
   "name": "python3"
  },
  "language_info": {
   "codemirror_mode": {
    "name": "ipython",
    "version": 3
   },
   "file_extension": ".py",
   "mimetype": "text/x-python",
   "name": "python",
   "nbconvert_exporter": "python",
   "pygments_lexer": "ipython3",
   "version": "3.9.7"
  }
 },
 "nbformat": 4,
 "nbformat_minor": 5
}
