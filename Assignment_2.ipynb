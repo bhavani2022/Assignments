{
 "cells": [
  {
   "cell_type": "markdown",
   "id": "41cf4a9c",
   "metadata": {},
   "source": [
    "\"\"\"1.What are the two values of the Boolean data type? How do you write them?\"\"\"\n",
    "\n",
    "The values of Boolean datatypes are 1 and 0. Boolean data type is written as True and False."
   ]
  },
  {
   "cell_type": "markdown",
   "id": "6cbd4567",
   "metadata": {},
   "source": [
    "\"\"\"2. What are the three different types of Boolean operators?\"\"\"\n",
    "\n",
    "Three different types of boolean operators are and, or, not.\n",
    "ex: a= 10\n",
    "    b= 5\n",
    "    a > 5 and b > 4  returns True\n",
    "    a > 5 and b > 6  returns False\n",
    "    a > 5 or b > 4  returns True\n",
    "    a > 15 or b > 6  returns False\n",
    "    not (a > 15 or b > 6) returns True\n",
    "    "
   ]
  },
  {
   "cell_type": "markdown",
   "id": "935b0c4d",
   "metadata": {},
   "source": [
    "\"\"\"3. Make a list of each Boolean operators truth tables (i.e. every possible combination of Boolean\n",
    "values for the operator and what it evaluate ).\"\"\"\n",
    "\n",
    "True and True returns True,\n",
    "True and False returns False,\n",
    "False and True returns False,\n",
    "False and False returns False,\n",
    "\n",
    "True or True returns True,\n",
    "True or False returns True,\n",
    "False or True returns True,\n",
    "False or False returns False,\n",
    "\n",
    "not(True) returns False,\n",
    "not(False) returns True\n"
   ]
  },
  {
   "cell_type": "markdown",
   "id": "1f9864ff",
   "metadata": {},
   "source": [
    "\"\"\"4. What are the values of the following expressions?\"\"\"\n",
    "\n",
    "(5 > 4) and (3 == 5)   returns False\n",
    "not (5 > 4)            returns False\n",
    "(5 > 4) or (3 == 5)    returns True\n",
    "not ((5 > 4) or (3 == 5)) returns False\n",
    "(True and True) and (True == False) returns False\n",
    "(not False) or (not True) returns True\n"
   ]
  },
  {
   "cell_type": "markdown",
   "id": "15d83702",
   "metadata": {},
   "source": [
    "\"\"\"5. What are the six comparison operators?\"\"\"\n",
    "\n",
    "The comparision operators are :\n",
    "    >,\n",
    "    <,\n",
    "    ==,\n",
    "    >=,\n",
    "    <=,\n",
    "    !=\n",
    "\n"
   ]
  },
  {
   "cell_type": "markdown",
   "id": "74d1e90c",
   "metadata": {},
   "source": [
    "\"\"\"6. How do you tell the difference between the equal to and assignment operators?Describe a\n",
    "condition and when you would use one.\"\"\"\n",
    "\n",
    "Equal to operator is written as == where as Assignment operator is written as = .\n",
    "Equal operator is used in comapring whether the LHS is equal to RHS (Ex: 3 == 4 returns False, 4==4 returns Ture),   where as Assignment operator is used to assign the value to the variable(Ex: a = 232, b =\"bhavani\" )   \n",
    "Equal operator always returns Boolean value.\n",
    "\n"
   ]
  },
  {
   "cell_type": "markdown",
   "id": "16547302",
   "metadata": {},
   "source": [
    "\"\"\"7. Identify the three blocks in this code:\n",
    "\n",
    "spam = 0\n",
    "if spam == 10:               \"\"\" First Block\n",
    "    print('eggs')\n",
    "    if spam > 5:             \"\"\" Second Block\n",
    "        print('bacon')\n",
    "    else:                    \"\"\"\" Third Block\n",
    "        print('ham')\n",
    "    print('spam')\n",
    "print('spam')\n",
    "\n"
   ]
  },
  {
   "cell_type": "markdown",
   "id": "bf50da5f",
   "metadata": {},
   "source": [
    "\"\"\"8. Write code that prints Hello if 1 is stored in spam, prints Howdy if 2 is stored in spam, and prints\n",
    "Greetings! if anything else is stored in spam.\"\"\"\n",
    "\n",
    "spam = \"bhavani\"\n",
    "if spam == 1 :\n",
    "\tprint('Hello')\n",
    "elif spam == 2:\n",
    "\tprint('Howdy')\n",
    "else:   \n",
    "    print('Greetings')\n",
    "\n"
   ]
  },
  {
   "cell_type": "markdown",
   "id": "f71442a6",
   "metadata": {},
   "source": [
    "\"\"\"9.If your programme is stuck in an endless loop, what keys you’ll press?\"\"\"\n",
    "\n",
    "CTRL+C\n",
    "\n"
   ]
  },
  {
   "cell_type": "markdown",
   "id": "e65c8e41",
   "metadata": {},
   "source": [
    "\"\"\" 10. How can you tell the difference between break and continue?\"\"\"\n",
    "\n",
    "In Python Break and Continue can alter the flow of a normal loop. \n",
    "\n",
    "The break statement will terminates the loop containing it. The control of the program flows to the statement immediately after the body of the loop.If the break statement is inside a nested loop, the break statement will terminate the innermost loop.\n",
    "The syntax is \"break\". \n",
    "Ex:\n",
    "for var in \"bhavani\":\n",
    "    if var == \"v\":\n",
    "        break\n",
    "    print(var)\n",
    "Oupput will be : b \n",
    "                 h\n",
    "                 a\n",
    "                 \n",
    "\n",
    "The continue statement is used to skip the rest of the code inside a loop for the current iteration only. Loop does not terminate but continues on with the next iteration.\n",
    "The syntax is \"continue\".\n",
    "Ex:for var in \"bhavani\":\n",
    "    if var == \"v\":\n",
    "        continue\n",
    "    print(var)\n",
    "Oupput will be : b \n",
    "                 h\n",
    "                 a\n",
    "                 a\n",
    "                 n\n",
    "                 i\n",
    "\n"
   ]
  },
  {
   "cell_type": "markdown",
   "id": "f0786b8b",
   "metadata": {},
   "source": [
    "\"\"\"11. In a for loop, what is the difference between range(10), range(0, 10), and range(0, 10, 1)?\"\"\"\n",
    "\n",
    "In a for loop all 3 (range(10), range(0, 10), and range(0, 10, 1)) gives the same result.\n",
    "\n",
    "Only when one number is present in the range object it will stop at that point and by default it starts from 0.  \n",
    "   Ex: \n",
    "        for i in range(10):\n",
    "            print (i)\n",
    "\n",
    "   It will start from 0 till 10 . Excluding 10.\n",
    "   In a For loop if we are printing it will print 0,1,2,3,4,5,6,7,8,9\n",
    "   \n",
    "when there are 2 numbers present in the range object it will start from the first number till the second number. Excluding the second number.\n",
    "    Ex:\n",
    "        for i in range(0 , 10):\n",
    "            print (i)\n",
    "\n",
    "   It will start from 0 till 10 . Excluding 10.\n",
    "   In a For loop if we are printing it will print 0,1,2,3,4,5,6,7,8,9\n",
    "\n",
    "when there are 3 numbers present in the range object it will start from the first number till the second number(Excluding the second number), third number represent the step increment or decrement. \n",
    "    Ex:\n",
    "        for i in range(0 , 10, 1):\n",
    "            print (i)\n",
    "\n",
    "   It will start from 0 till 10 . Excluding 10.\n",
    "   In a For loop if we are printing it will print 0,1,2,3,4,5,6,7,8,9\n",
    "   \n",
    "   "
   ]
  },
  {
   "cell_type": "markdown",
   "id": "48c0af26",
   "metadata": {},
   "source": [
    "\"\"\"12. Write a short program that prints the numbers 1 to 10 using a for loop. Then write an equivalent\n",
    "program that prints the numbers 1 to 10 using a while loop.\"\"\"\n",
    "\n",
    "\n",
    "we can write the same program using for loop and a while loop\n",
    "For Loop: \n",
    "1.\n",
    "for x in range(1, 11):\n",
    "\tprint(x)\n",
    "\n",
    "2.\n",
    "for x in range(10):\n",
    "\tprint(x+1)\n",
    "    \n",
    "\n",
    "    \n",
    "While Loop:\n",
    "i = 1\n",
    "while i <= 10:\n",
    "  print(i)\n",
    "  i += 1\n",
    "  \n"
   ]
  },
  {
   "cell_type": "markdown",
   "id": "7c6366eb",
   "metadata": {},
   "source": [
    "\"\"\"13. If you had a function named bacon() inside a module named spam, how would you call it after\n",
    "importing spam?\"\"\"\n",
    "\n",
    "Iporting is done by import modulename. Here import spam.\n",
    "we will be calling the function bacon() by spam.bacon()\n",
    "\n"
   ]
  }
 ],
 "metadata": {
  "kernelspec": {
   "display_name": "Python 3 (ipykernel)",
   "language": "python",
   "name": "python3"
  },
  "language_info": {
   "codemirror_mode": {
    "name": "ipython",
    "version": 3
   },
   "file_extension": ".py",
   "mimetype": "text/x-python",
   "name": "python",
   "nbconvert_exporter": "python",
   "pygments_lexer": "ipython3",
   "version": "3.9.7"
  }
 },
 "nbformat": 4,
 "nbformat_minor": 5
}
