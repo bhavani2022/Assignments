{
 "cells": [
  {
   "cell_type": "code",
   "execution_count": 6,
   "id": "07fc1a8d",
   "metadata": {},
   "outputs": [
    {
     "name": "stdout",
     "output_type": "stream",
     "text": [
      "Enter the first number:   6\n",
      "Enter the second number:  12\n",
      "The L.C.M. is 12\n"
     ]
    }
   ],
   "source": [
    "\"\"\"1. Write a Python Program to Find LCM?\"\"\"\n",
    "\n",
    "def lcm(x, y):\n",
    "\n",
    "   if x > y:\n",
    "       greater = x\n",
    "   else:\n",
    "       greater = y\n",
    "\n",
    "   while(True):\n",
    "       if((greater % x == 0) and (greater % y == 0)):\n",
    "           lcm = greater\n",
    "           break\n",
    "       greater += 1\n",
    "\n",
    "   return lcm\n",
    "\n",
    "num1 =int(input(\"Enter the first number:   \"))\n",
    "num2 = int(input(\"Enter the second number:  \"))\n",
    "\n",
    "print(\"The L.C.M. is\", lcm(num1, num2))"
   ]
  },
  {
   "cell_type": "code",
   "execution_count": 7,
   "id": "7aad0e36",
   "metadata": {},
   "outputs": [
    {
     "name": "stdout",
     "output_type": "stream",
     "text": [
      "Enter the first number:   12\n",
      "Enter the second number:  10\n",
      "The H.C.F. is 2\n"
     ]
    }
   ],
   "source": [
    "\"\"\"2. Write a Python Program to Find HCF?\"\"\"\n",
    "\n",
    "def hcf(x, y):\n",
    "\n",
    "    if x > y:\n",
    "        smaller = y\n",
    "    else:\n",
    "        smaller = x\n",
    "    for i in range(1, smaller+1):\n",
    "        if((x % i == 0) and (y % i == 0)):\n",
    "            hcf = i \n",
    "    return hcf\n",
    "\n",
    "num1 =int(input(\"Enter the first number:   \"))\n",
    "num2 = int(input(\"Enter the second number:  \"))\n",
    "\n",
    "print(\"The H.C.F. is\", hcf(num1, num2))\n"
   ]
  },
  {
   "cell_type": "code",
   "execution_count": 16,
   "id": "d2444a55",
   "metadata": {},
   "outputs": [
    {
     "name": "stdout",
     "output_type": "stream",
     "text": [
      "Enter the first number:   17\n",
      "010001"
     ]
    }
   ],
   "source": [
    "\"\"\"3. Write a Python Program to Convert Decimal to Binary, Octal and Hexadecimal?\"\"\"\n",
    "\n",
    "\n",
    "def DecimalToBinary(num):\n",
    "     \n",
    "    if num >= 1:\n",
    "        DecimalToBinary(num // 2)\n",
    "    print(num % 2, end = '')\n",
    "    \n",
    "dec_val =int(input(\"Enter the number to be converted:   \"))\n",
    "DecimalToBinary(dec_val)\n"
   ]
  },
  {
   "cell_type": "code",
   "execution_count": 20,
   "id": "4e2dc79d",
   "metadata": {},
   "outputs": [
    {
     "name": "stdout",
     "output_type": "stream",
     "text": [
      "Enter the character:   A\n",
      "The ASCII value of 'A' is 65\n"
     ]
    }
   ],
   "source": [
    "\"\"\"4. Write a Python Program To Find ASCII value of a character?\"\"\"\n",
    "\n",
    "char = input(\"Enter the character:   \")\n",
    "print(\"The ASCII value of '\" + char + \"' is\", ord(char))"
   ]
  },
  {
   "cell_type": "code",
   "execution_count": 1,
   "id": "dab075cc",
   "metadata": {},
   "outputs": [
    {
     "name": "stdout",
     "output_type": "stream",
     "text": [
      "Select operation.\n",
      "1.Add\n",
      "2.Subtract\n",
      "3.Multiply\n",
      "4.Divide\n",
      "Enter choice(1/2/3/4): 2\n",
      "Enter first number: 1\n",
      "Enter second number: 13\n",
      "1.0 - 13.0 = -12.0\n",
      "do you want to continue with next calculation? (yes/no): no\n"
     ]
    }
   ],
   "source": [
    "\"\"\"5. Write a Python Program to Make a Simple Calculator with 4 basic mathematical operations?\"\"\"\n",
    "\n",
    "def add(a,b):\n",
    "    res=a+b\n",
    "    return res\n",
    "\n",
    "def sub(a,b):\n",
    "    res=a-b\n",
    "    return res\n",
    "\n",
    "def mul(a,b):\n",
    "    res=a*b\n",
    "    return res\n",
    "\n",
    "def div(a,b):\n",
    "    res=a/b\n",
    "    return res\n",
    "\n",
    "print(\"Select operation.\")\n",
    "print(\"1.Add\")\n",
    "print(\"2.Subtract\")\n",
    "print(\"3.Multiply\")\n",
    "print(\"4.Divide\")\n",
    "\n",
    "while True:\n",
    "    choice = input(\"Enter choice(1/2/3/4): \")\n",
    "    if choice in ('1', '2', '3', '4'):\n",
    "        num1 = float(input(\"Enter first number: \"))\n",
    "        num2 = float(input(\"Enter second number: \"))\n",
    "\n",
    "        if choice == '1':\n",
    "            print(num1, \"+\", num2, \"=\", add(num1, num2))\n",
    "\n",
    "        elif choice == '2':\n",
    "            print(num1, \"-\", num2, \"=\", sub(num1, num2))\n",
    "\n",
    "        elif choice == '3':\n",
    "            print(num1, \"*\", num2, \"=\", mul(num1, num2))\n",
    "\n",
    "        elif choice == '4':\n",
    "            print(num1, \"/\", num2, \"=\", div(num1, num2))     \n",
    "        next_calculation = input(\"do you want to continue with next calculation? (yes/no): \")\n",
    "        if next_calculation == \"no\":\n",
    "          break\n",
    "    else:\n",
    "        print(\"Invalid Input\")\n"
   ]
  },
  {
   "cell_type": "code",
   "execution_count": null,
   "id": "340f2302",
   "metadata": {},
   "outputs": [],
   "source": []
  },
  {
   "cell_type": "code",
   "execution_count": null,
   "id": "416b3146",
   "metadata": {},
   "outputs": [],
   "source": []
  },
  {
   "cell_type": "code",
   "execution_count": null,
   "id": "977a401f",
   "metadata": {},
   "outputs": [],
   "source": []
  }
 ],
 "metadata": {
  "kernelspec": {
   "display_name": "Python 3 (ipykernel)",
   "language": "python",
   "name": "python3"
  },
  "language_info": {
   "codemirror_mode": {
    "name": "ipython",
    "version": 3
   },
   "file_extension": ".py",
   "mimetype": "text/x-python",
   "name": "python",
   "nbconvert_exporter": "python",
   "pygments_lexer": "ipython3",
   "version": "3.9.12"
  }
 },
 "nbformat": 4,
 "nbformat_minor": 5
}
