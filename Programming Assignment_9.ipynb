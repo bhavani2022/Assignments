{
 "cells": [
  {
   "cell_type": "code",
   "execution_count": 15,
   "id": "252db576",
   "metadata": {},
   "outputs": [
    {
     "name": "stdout",
     "output_type": "stream",
     "text": [
      "Enter the Number to Check Disarium Number = 1234\n",
      "The Sum of the Digits = 288\n",
      "1234 is Not a Disarium Number.\n"
     ]
    }
   ],
   "source": [
    "\"\"\"1. Write a Python program to check if the given number is a Disarium Number?\"\"\"\n",
    "#89 = 8(8*1)+ 81(9*9) = 89\n",
    "\n",
    "\n",
    "Num = int(input(\"Enter the Number to Check Disarium Number = \"))\n",
    "length = len(str(Num))\n",
    "\n",
    "Temp = Num\n",
    "Sum = 0\n",
    "rem = 0\n",
    "\n",
    "while Temp > 0:\n",
    "    rem = Temp % 10\n",
    "    Sum = Sum + int(rem**length)\n",
    "    Temp = Temp // 10\n",
    "    length = length - 1\n",
    "\n",
    "print(\"The Sum of the Digits = %d\" %Sum)\n",
    "\n",
    "if Sum == Num:\n",
    "    print(\"\\n%d is a Disarium Number.\" %Num)\n",
    "else:\n",
    "    print(\"%d is Not a Disarium Number.\" %Num)\n",
    "\n"
   ]
  },
  {
   "cell_type": "code",
   "execution_count": 16,
   "id": "86c6b984",
   "metadata": {},
   "outputs": [
    {
     "name": "stdout",
     "output_type": "stream",
     "text": [
      "The disarium numbers between 1 and 100 are : \n",
      "1\n",
      "2\n",
      "3\n",
      "4\n",
      "5\n",
      "6\n",
      "7\n",
      "8\n",
      "9\n",
      "89\n"
     ]
    }
   ],
   "source": [
    "\"\"\"2. Write a Python program to print all disarium numbers between 1 to 100?\"\"\"\n",
    "\n",
    "\n",
    "def digit_sum(my_num):\n",
    "    rem = sum_val = 0\n",
    "    len_fun = length(my_num)\n",
    "    while my_num > 0:\n",
    "        rem = my_num%10\n",
    "        sum_val = sum_val + (rem**len_fun)\n",
    "        my_num = my_num//10\n",
    "        len_fun = len_fun - 1\n",
    "    return sum_val\n",
    "ini_result = 0\n",
    "print(\"The disarium numbers between 1 and 100 are : \")\n",
    "for i in range(1, 101):\n",
    "    ini_result = digit_sum(i)\n",
    "    if(ini_result == i):\n",
    "        print(i)                   "
   ]
  },
  {
   "cell_type": "code",
   "execution_count": 20,
   "id": "c8df17c8",
   "metadata": {},
   "outputs": [
    {
     "name": "stdout",
     "output_type": "stream",
     "text": [
      "Enter the number:   654\n",
      "The number is being checked\n",
      "654 isn't a happy number\n"
     ]
    }
   ],
   "source": [
    "\"\"\"3. Write a Python program to check if the given number is Happy Number?\"\"\"\n",
    "def check_happy_num(my_num):\n",
    "    remaining = sum_val = 0\n",
    "    while(my_num > 0):\n",
    "        remaining = my_num%10\n",
    "        sum_val = sum_val + (remaining*remaining)\n",
    "        my_num = my_num//10\n",
    "    return sum_val;\n",
    "my_num = int(input(\"Enter the number:   \"))\n",
    "my_result = my_num\n",
    "while(my_result != 1 and my_result != 4):\n",
    "    my_result = check_happy_num(my_result);\n",
    "print(\"The number is being checked\")\n",
    "if(my_result == 1):\n",
    "    print(str(my_num) + \" is a happy number\");\n",
    "elif(my_result == 4):\n",
    "    print(str(my_num) + \" isn't a happy number\");\n"
   ]
  },
  {
   "cell_type": "code",
   "execution_count": 23,
   "id": "dfdde973",
   "metadata": {},
   "outputs": [
    {
     "name": "stdout",
     "output_type": "stream",
     "text": [
      "The list of happy numbers between 1 and 100 are : \n",
      "1\n",
      "7\n",
      "10\n",
      "13\n",
      "19\n",
      "23\n",
      "28\n",
      "31\n",
      "32\n",
      "44\n",
      "49\n",
      "68\n",
      "70\n",
      "79\n",
      "82\n",
      "86\n",
      "91\n",
      "94\n",
      "97\n",
      "100\n"
     ]
    }
   ],
   "source": [
    "\"\"\"4. Write a Python program to print all happy numbers between 1 and 100?\"\"\"\n",
    "\n",
    "def check_happy_num(my_num):\n",
    "    remaining = sum_val = 0\n",
    "    while(my_num > 0):\n",
    "        remaining = my_num%10\n",
    "        sum_val = sum_val + (remaining*remaining)\n",
    "        my_num = my_num//10\n",
    "    return sum_val\n",
    "print(\"The list of happy numbers between 1 and 100 are : \")\n",
    "for i in range(1, 101):\n",
    "    my_result = i\n",
    "    while(my_result != 1 and my_result != 4):\n",
    "        my_result = check_happy_num(my_result)\n",
    "    if(my_result == 1):\n",
    "        print(i)"
   ]
  },
  {
   "cell_type": "code",
   "execution_count": 13,
   "id": "d5308f03",
   "metadata": {},
   "outputs": [
    {
     "name": "stdout",
     "output_type": "stream",
     "text": [
      "Enter the number:   20\n",
      "20 is a harshad number\n"
     ]
    }
   ],
   "source": [
    "\"\"\"5. Write a Python program to determine whether the given number is a Harshad Number?\"\"\"\n",
    "        \n",
    "num = int(input(\"Enter the number:   \"))   \n",
    "rem = sum = 0    \n",
    "     \n",
    "#Make a copy of num and store it in variable n    \n",
    "n = num \n",
    "     \n",
    "while(num > 0):    \n",
    "    rem = num%10    \n",
    "    sum = sum + rem    \n",
    "    num = num//10\n",
    "     \n",
    "#Checks whether the number is divisible by the sum of digits    \n",
    "if(n%sum == 0):    \n",
    "    print(str(n) + \" is a harshad number\")    \n",
    "else:    \n",
    "    print(str(n) + \" is not a harshad number\")  "
   ]
  },
  {
   "cell_type": "code",
   "execution_count": 17,
   "id": "862ff6c7",
   "metadata": {},
   "outputs": [
    {
     "name": "stdout",
     "output_type": "stream",
     "text": [
      "Pronic numbers between 1 and 100: \n",
      "2\n",
      "6\n",
      "12\n",
      "20\n",
      "30\n",
      "42\n",
      "56\n",
      "72\n",
      "90\n"
     ]
    }
   ],
   "source": [
    "\"\"\"6. Write a Python program to print all pronic numbers between 1 and 100?\"\"\"\n",
    "\n",
    "def Pronic(num):    \n",
    "    flag = False;    \n",
    "    for j in range(1, num+1):      \n",
    "        if((j*(j+1)) == num):    \n",
    "            flag = True    \n",
    "            break    \n",
    "    return flag    \n",
    "     \n",
    "print(\"Pronic numbers between 1 and 100: \")    \n",
    "for i in range(1, 101):    \n",
    "    if(Pronic(i)):    \n",
    "        print(i)     \n"
   ]
  },
  {
   "cell_type": "code",
   "execution_count": null,
   "id": "552ba5b1",
   "metadata": {},
   "outputs": [],
   "source": []
  }
 ],
 "metadata": {
  "kernelspec": {
   "display_name": "Python 3 (ipykernel)",
   "language": "python",
   "name": "python3"
  },
  "language_info": {
   "codemirror_mode": {
    "name": "ipython",
    "version": 3
   },
   "file_extension": ".py",
   "mimetype": "text/x-python",
   "name": "python",
   "nbconvert_exporter": "python",
   "pygments_lexer": "ipython3",
   "version": "3.9.12"
  }
 },
 "nbformat": 4,
 "nbformat_minor": 5
}
