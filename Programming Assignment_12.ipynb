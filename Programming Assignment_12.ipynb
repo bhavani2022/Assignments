{
 "cells": [
  {
   "cell_type": "code",
   "execution_count": 2,
   "id": "4a1043ae",
   "metadata": {},
   "outputs": [
    {
     "name": "stdout",
     "output_type": "stream",
     "text": [
      "dict_values(['India', 'US', 'CANADA', 'GERMANY', 'US', 'INDIA'])\n",
      "{'India', 'CANADA', 'GERMANY', 'INDIA', 'US'}\n"
     ]
    }
   ],
   "source": [
    "\"\"\"1. Write a Python program to Extract Unique values dictionary values?\"\"\"\n",
    "dict1={1:\"India\",2:\"US\",3:\"CANADA\",4:\"GERMANY\",5:\"US\",6:\"INDIA\"}\n",
    "print(dict1.values())\n",
    "print(set(dict1.values()))"
   ]
  },
  {
   "cell_type": "code",
   "execution_count": 19,
   "id": "b08246e9",
   "metadata": {},
   "outputs": [
    {
     "name": "stdout",
     "output_type": "stream",
     "text": [
      "Sum of All items:  210\n"
     ]
    }
   ],
   "source": [
    "\"\"\"2. Write a Python program to find the sum of all items in a dictionary?\"\"\"\n",
    "dict2={\"key1\":10,\"key2\":20,\"key3\":30,\"key4\":40,\"key5\":50,\"key6\":60}\n",
    "\n",
    "print('Sum of All items: ',sum(dict2.values()))"
   ]
  },
  {
   "cell_type": "code",
   "execution_count": 25,
   "id": "e03db83f",
   "metadata": {},
   "outputs": [
    {
     "name": "stdout",
     "output_type": "stream",
     "text": [
      "{1: 'India', 2: 'US', 'key1': 10, 'key2': 20}\n"
     ]
    }
   ],
   "source": [
    "\"\"\"3. Write a Python program to Merging two Dictionaries?\"\"\"\n",
    "\n",
    "dict3 =  {1:\"India\", 2:\"US\"}\n",
    "dict33 = {\"key1\":10, \"key2\":20}\n",
    "dict3.update(dict33)\n",
    "print(dict3)"
   ]
  },
  {
   "cell_type": "code",
   "execution_count": 26,
   "id": "2992e0b8",
   "metadata": {},
   "outputs": [
    {
     "data": {
      "text/plain": [
       "{'A': 10,\n",
       " 'B': 20,\n",
       " 'C': 30,\n",
       " 'D': 40,\n",
       " 'E': 50,\n",
       " 'F': 60,\n",
       " 'G': 70,\n",
       " 'H': 80,\n",
       " 'I': 90,\n",
       " 'J': 100}"
      ]
     },
     "execution_count": 26,
     "metadata": {},
     "output_type": "execute_result"
    }
   ],
   "source": [
    "\"\"\"4. Write a Python program to convert key-values list to flat dictionary?\"\"\"\n",
    "list4 = [('A',10),('B',20),('C',30),('D',40),('E',50),('F',60),('G',70),('H',80),('I',90),('J',100)]\n",
    "dict(list4)"
   ]
  },
  {
   "cell_type": "code",
   "execution_count": 2,
   "id": "f4c50020",
   "metadata": {},
   "outputs": [
    {
     "name": "stdout",
     "output_type": "stream",
     "text": [
      "dict_one OrderedDict([('Apple', 'Iphone'), ('Microsoft', 'Windows'), ('Google', 'chrome')])\n",
      "dict_one OrderedDict([('Microsoft', 'Windows'), ('Apple', 'Iphone'), ('Google', 'chrome')])\n"
     ]
    }
   ],
   "source": [
    "\"\"\"5. Write a Python program to insertion at the beginning in OrderedDict?\"\"\"\n",
    "\n",
    "from collections import OrderedDict\n",
    "dict_one = OrderedDict({'Apple':'Iphone','Microsoft':'Windows','Google':'chrome'})\n",
    "print('dict_one',dict_one)\n",
    "dict_one.move_to_end('Microsoft',last=False)\n",
    "print('dict_one',dict_one)"
   ]
  },
  {
   "cell_type": "code",
   "execution_count": 5,
   "id": "007514e5",
   "metadata": {},
   "outputs": [
    {
     "name": "stdout",
     "output_type": "stream",
     "text": [
      "{'bhavani': 100, 'aadvik': 200, 'aadya': 300, 'gopal': 400, 'subbu': 500, 'nayana': 600}\n",
      "OrderedDict([('aadvik', 200), ('aadya', 300), ('bhavani', 100), ('gopal', 400), ('nayana', 600), ('subbu', 500)])\n"
     ]
    }
   ],
   "source": [
    "\"\"\"6. Write a Python program to check order of character in string using OrderedDict()?\"\"\"\n",
    "\n",
    "initial_list = {'bhavani': 100, 'aadvik': 200, 'aadya': 300, 'gopal': 400, 'subbu': 500, 'nayana': 600}\n",
    "print(initial_list)\n",
    "\n",
    "final_list = OrderedDict(dict(sorted(initial_list.items())))\n",
    "print(final_list)"
   ]
  },
  {
   "cell_type": "code",
   "execution_count": 36,
   "id": "4dc1d160",
   "metadata": {},
   "outputs": [
    {
     "name": "stdout",
     "output_type": "stream",
     "text": [
      "None\n"
     ]
    }
   ],
   "source": [
    "\"\"\"7. Write a Python program to sort Python Dictionaries by Key or Value?\"\"\"\n",
    "dict7 = {'A': 103,'B': 230,'C': 130,'D': 40,'E': 650, 'F': 260, 'G': 740, 'H': 890, 'I': 190, 'J': 10}\n",
    "list7= list(dict7.values())\n",
    "print(list7.sort())"
   ]
  },
  {
   "cell_type": "code",
   "execution_count": null,
   "id": "19afdd8d",
   "metadata": {},
   "outputs": [],
   "source": []
  }
 ],
 "metadata": {
  "kernelspec": {
   "display_name": "Python 3 (ipykernel)",
   "language": "python",
   "name": "python3"
  },
  "language_info": {
   "codemirror_mode": {
    "name": "ipython",
    "version": 3
   },
   "file_extension": ".py",
   "mimetype": "text/x-python",
   "name": "python",
   "nbconvert_exporter": "python",
   "pygments_lexer": "ipython3",
   "version": "3.9.12"
  }
 },
 "nbformat": 4,
 "nbformat_minor": 5
}
