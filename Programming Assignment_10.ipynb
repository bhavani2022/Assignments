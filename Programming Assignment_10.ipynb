{
 "cells": [
  {
   "cell_type": "code",
   "execution_count": 13,
   "id": "da914f30",
   "metadata": {},
   "outputs": [
    {
     "name": "stdout",
     "output_type": "stream",
     "text": [
      "46\n"
     ]
    }
   ],
   "source": [
    "\"\"\"1. Write a Python program to find sum of elements in list?\"\"\"\n",
    "l=[7,8,3,4,5,9,10]\n",
    "summ=0\n",
    "for i in range(len(l)):\n",
    "    summ=summ+l[i]\n",
    "print(\"Sum of all the elements\", summ)"
   ]
  },
  {
   "cell_type": "code",
   "execution_count": 33,
   "id": "d9e597dc",
   "metadata": {},
   "outputs": [
    {
     "name": "stdout",
     "output_type": "stream",
     "text": [
      "Enter the num of elements in list:  3\n",
      "Enter the elements:3\n",
      "Enter the elements:2\n",
      "Enter the elements:4\n",
      "[3, 2, 4]\n",
      "Multiplication of the list numbers:   24\n"
     ]
    }
   ],
   "source": [
    "\"\"\"2. Write a Python program to Multiply all numbers in the list?\"\"\"\n",
    "\n",
    "num=int(input(\"Enter the num of elements in list:  \"))\n",
    "l=[]\n",
    "mul=1\n",
    "for i in range(0,num):\n",
    "    l.append(int(input(\"Enter the elements:\")))\n",
    "print(\"The enterd list is:  \", l)\n",
    "\n",
    "for j in range(len(l)):\n",
    "    mul=mul*l[j]\n",
    "print(\"Multiplication of the list numbers:  \", mul)\n"
   ]
  },
  {
   "cell_type": "code",
   "execution_count": 38,
   "id": "323c25b4",
   "metadata": {},
   "outputs": [
    {
     "name": "stdout",
     "output_type": "stream",
     "text": [
      "Enter the num of elements in list:  6\n",
      "Enter the elements:2\n",
      "Enter the elements:8\n",
      "Enter the elements:1\n",
      "Enter the elements:7\n",
      "Enter the elements:0\n",
      "Enter the elements:3\n",
      "The enterd list is:   [2, 8, 1, 7, 0, 3]\n",
      "The small number in the list is:    0\n"
     ]
    }
   ],
   "source": [
    "\"\"\"3. Write a Python program to find smallest number in a list?\"\"\"\n",
    "\n",
    "num=int(input(\"Enter the num of elements in list:  \"))\n",
    "l=[]\n",
    "mul=1\n",
    "for i in range(0,num):\n",
    "    l.append(int(input(\"Enter the elements:\")))\n",
    "print(\"The enterd list is:  \", l)\n",
    "\n",
    "small=l[0]\n",
    "for j in range(len(l)):\n",
    "    if small > l[j]:\n",
    "        small=l[j]\n",
    "\n",
    "print(\"The small number in the list is:   \", small)\n"
   ]
  },
  {
   "cell_type": "code",
   "execution_count": 39,
   "id": "aa1962ce",
   "metadata": {},
   "outputs": [
    {
     "name": "stdout",
     "output_type": "stream",
     "text": [
      "Enter the num of elements in list:  3\n",
      "Enter the elements:1\n",
      "Enter the elements:5\n",
      "Enter the elements:2\n",
      "The enterd list is:   [1, 5, 2]\n",
      "The small number in the list is:    5\n"
     ]
    }
   ],
   "source": [
    "\"\"\"4. Write a Python program to find largest number in a list?\"\"\"\n",
    "\n",
    "num=int(input(\"Enter the num of elements in list:  \"))\n",
    "l=[]\n",
    "mul=1\n",
    "for i in range(0,num):\n",
    "    l.append(int(input(\"Enter the elements:\")))\n",
    "print(\"The enterd list is:  \", l)\n",
    "\n",
    "big=l[0]\n",
    "for j in range(len(l)):\n",
    "    if big < l[j]:\n",
    "        big =l[j]\n",
    "\n",
    "print(\"The small number in the list is:   \", big)"
   ]
  },
  {
   "cell_type": "code",
   "execution_count": 48,
   "id": "6fd3acf9",
   "metadata": {},
   "outputs": [
    {
     "name": "stdout",
     "output_type": "stream",
     "text": [
      "Enter the num of elements in list:  5\n",
      "Enter the elements:23\n",
      "Enter the elements:9\n",
      "Enter the elements:454\n",
      "Enter the elements:12\n",
      "Enter the elements:064\n",
      "The enterd list is:   [23, 9, 454, 12, 64]\n",
      "The numbers are sorted desendingly in the list [454, 64, 23, 12, 9]\n",
      "the second largest number is : 64\n"
     ]
    }
   ],
   "source": [
    "\"\"\"5. Write a Python program to find second largest number in a list?\"\"\"\n",
    "num=int(input(\"Enter the num of elements in list:  \"))\n",
    "l=[]\n",
    "mul=1\n",
    "for i in range(0,num):\n",
    "    l.append(int(input(\"Enter the elements:\")))\n",
    "print(\"The enterd list is:  \", l)\n",
    "\n",
    "l.sort(reverse = True)\n",
    "print(\"The numbers are sorted desendingly in the list\", l)\n",
    "print(\"the second largest number is :\", l[1])"
   ]
  },
  {
   "cell_type": "code",
   "execution_count": 63,
   "id": "4d831337",
   "metadata": {},
   "outputs": [
    {
     "name": "stdout",
     "output_type": "stream",
     "text": [
      "Enter the num of elements in list:  3\n",
      "Enter the elements:654\n",
      "Enter the elements:23\n",
      "Enter the elements:11\n",
      "The enterd list is:   [654, 23, 11]\n",
      "The numbers are sorted desendingly in the list [654, 23, 11]\n",
      "Enter which largest elemet you need to find:3\n",
      "the 3 largest number is : 11\n"
     ]
    }
   ],
   "source": [
    "\"\"\"6. Write a Python program to find N largest elements from a list?\"\"\"\n",
    "\n",
    "num=int(input(\"Enter the num of elements in list:  \"))\n",
    "l=[]\n",
    "mul=1\n",
    "for i in range(0,num):\n",
    "    l.append(int(input(\"Enter the elements:\")))\n",
    "print(\"The enterd list is:  \", l)\n",
    "\n",
    "l.sort(reverse = True)\n",
    "print(\"The numbers are sorted desendingly in the list\", l)\n",
    "\n",
    "n=int(input(\"Enter which largest elemet you need to find:\"))\n",
    "\n",
    "for j in range(len(l)): \n",
    "    if j == n-1:\n",
    "        print(\"the\", n ,\"largest number is :\", l[j])\n"
   ]
  },
  {
   "cell_type": "code",
   "execution_count": 66,
   "id": "6c0c4126",
   "metadata": {},
   "outputs": [
    {
     "name": "stdout",
     "output_type": "stream",
     "text": [
      "Enter the num of elements in list:  5\n",
      "Enter the elements:234\n",
      "Enter the elements:345\n",
      "Enter the elements:12\n",
      "Enter the elements:67\n",
      "Enter the elements:988\n",
      "The enterd list is:   [234, 345, 12, 67, 988]\n",
      "The even numbers in the list are:  [234, 12, 988]\n"
     ]
    }
   ],
   "source": [
    "\"\"\"7. Write a Python program to print even numbers in a list?\"\"\"\n",
    "\n",
    "num=int(input(\"Enter the num of elements in list:  \"))\n",
    "l=[]\n",
    "l1=[]\n",
    "mul=1\n",
    "for i in range(0,num):\n",
    "    l.append(int(input(\"Enter the elements:\")))\n",
    "print(\"The enterd list is:  \", l)\n",
    "\n",
    "for j in range(len(l)): \n",
    "    if l[j] % 2 == 0:\n",
    "        l1.append(l[j])\n",
    "\n",
    "print(\"The even numbers in the list are: \", l1)\n"
   ]
  },
  {
   "cell_type": "code",
   "execution_count": 67,
   "id": "f37d4f3e",
   "metadata": {},
   "outputs": [
    {
     "name": "stdout",
     "output_type": "stream",
     "text": [
      "Enter the num of elements in list:  4\n",
      "Enter the elements:12\n",
      "Enter the elements:534\n",
      "Enter the elements:1\n",
      "Enter the elements:66\n",
      "The enterd list is:   [12, 534, 1, 66]\n",
      "The odd numbers in the list are:  [1]\n"
     ]
    }
   ],
   "source": [
    " \"\"\"8. Write a Python program to print odd numbers in a List?\"\"\"\n",
    "\n",
    "num=int(input(\"Enter the num of elements in list:  \"))\n",
    "l=[]\n",
    "l1=[]\n",
    "mul=1\n",
    "for i in range(0,num):\n",
    "    l.append(int(input(\"Enter the elements:\")))\n",
    "print(\"The enterd list is:  \", l)\n",
    "\n",
    "for j in range(len(l)): \n",
    "    if l[j] % 2 != 0:\n",
    "        l1.append(l[j])\n",
    "\n",
    "print(\"The odd numbers in the list are: \", l1)"
   ]
  },
  {
   "cell_type": "code",
   "execution_count": 76,
   "id": "b90af557",
   "metadata": {},
   "outputs": [
    {
     "name": "stdout",
     "output_type": "stream",
     "text": [
      "[2, 3, 4, 5, 6, 12]\n"
     ]
    }
   ],
   "source": [
    "\"\"\"9. Write a Python program to Remove empty List from List?\"\"\"\n",
    "\n",
    "l=[2,3,[],4,5,6,12,[]]\n",
    "\n",
    "l1 = [x for x in l if x != []]\n",
    "\n",
    "print(l1)\n"
   ]
  },
  {
   "cell_type": "code",
   "execution_count": 69,
   "id": "f4245202",
   "metadata": {},
   "outputs": [
    {
     "name": "stdout",
     "output_type": "stream",
     "text": [
      "Enter the num of elements in list:  3\n",
      "Enter the elements:12\n",
      "Enter the elements:54\n",
      "Enter the elements:12\n",
      "The enterd list is:   [12, 54, 12]\n",
      "The copied list is:  [12, 54, 12]\n"
     ]
    }
   ],
   "source": [
    "\"\"\"10. Write a Python program to Cloning or Copying a list?\"\"\"\n",
    "\n",
    "num=int(input(\"Enter the num of elements in list:  \"))\n",
    "l=[]\n",
    "l1=[]\n",
    "mul=1\n",
    "for i in range(0,num):\n",
    "    l.append(int(input(\"Enter the elements:\")))\n",
    "print(\"The enterd list is:  \", l)\n",
    "\n",
    "for j in range(len(l)):\n",
    "    l1.append(l[j])\n",
    "\n",
    "print(\"The copied list is: \", l1)\n"
   ]
  },
  {
   "cell_type": "code",
   "execution_count": 74,
   "id": "f6772d1c",
   "metadata": {},
   "outputs": [
    {
     "name": "stdout",
     "output_type": "stream",
     "text": [
      "Enter the num of elements in list:  4\n",
      "Enter the elements:12\n",
      "Enter the elements:43\n",
      "Enter the elements:12\n",
      "Enter the elements:55\n",
      "The enterd list is:   [12, 43, 12, 55]\n",
      "43 : 1\n",
      "12 : 2\n",
      "55 : 1\n"
     ]
    }
   ],
   "source": [
    "\"\"\"11. Write a Python program to Count occurrences of an element in a list?\"\"\"\n",
    "\n",
    "num=int(input(\"Enter the num of elements in list:  \"))\n",
    "l=[]\n",
    "l1=[]\n",
    "mul=1\n",
    "for i in range(0,num):\n",
    "    l.append(int(input(\"Enter the elements:\")))\n",
    "print(\"The enterd list is:  \", l)\n",
    "\n",
    "for j in set(l):\n",
    "    print(j, \":\", l.count(j))"
   ]
  },
  {
   "cell_type": "code",
   "execution_count": null,
   "id": "61db86c6",
   "metadata": {},
   "outputs": [],
   "source": []
  }
 ],
 "metadata": {
  "kernelspec": {
   "display_name": "Python 3 (ipykernel)",
   "language": "python",
   "name": "python3"
  },
  "language_info": {
   "codemirror_mode": {
    "name": "ipython",
    "version": 3
   },
   "file_extension": ".py",
   "mimetype": "text/x-python",
   "name": "python",
   "nbconvert_exporter": "python",
   "pygments_lexer": "ipython3",
   "version": "3.9.12"
  }
 },
 "nbformat": 4,
 "nbformat_minor": 5
}
