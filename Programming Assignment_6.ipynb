{
 "cells": [
  {
   "cell_type": "code",
   "execution_count": null,
   "id": "65d694c6",
   "metadata": {},
   "outputs": [],
   "source": [
    "\"\"\"1. Write a Python Program to Display Fibonacci Sequence Using Recursion?\"\"\"\n",
    "def recur_fibo(n):  \n",
    "   if n <= 1:  \n",
    "       return n  \n",
    "   else:  \n",
    "       return(recur_fibo(n-1) + recur_fibo(n-2))  \n",
    " \n",
    "nterms = int(input(\"How many terms: \"))  \n",
    "\n",
    "if nterms <= 0:  \n",
    "   print(\"Plese enter a positive integer\")  \n",
    "else:  \n",
    "   print(\"Fibonacci sequence:\")  \n",
    "   for i in range(nterms):  \n",
    "       print(recur_fibo(i))  "
   ]
  },
  {
   "cell_type": "code",
   "execution_count": null,
   "id": "0a2a4c1d",
   "metadata": {},
   "outputs": [],
   "source": [
    "\"\"\"2. Write a Python Program to Find Factorial of Number Using Recursion?\"\"\"\n",
    "def recur_factorial(n):  \n",
    "   if n == 1:  \n",
    "       return n  \n",
    "   else:  \n",
    "       return n*recur_factorial(n-1)  \n",
    "    \n",
    "num = int(input(\"Enter a number: \"))  \n",
    "\n",
    "if num < 0:  \n",
    "   print(\"Sorry, factorial does not exist for negative numbers\")  \n",
    "elif num == 0:  \n",
    "   print(\"The factorial of 0 is 1\")  \n",
    "else:  \n",
    "   print(\"The factorial of\",num,\"is\",recur_factorial(num))  "
   ]
  },
  {
   "cell_type": "code",
   "execution_count": 2,
   "id": "7e77027a",
   "metadata": {},
   "outputs": [
    {
     "name": "stdout",
     "output_type": "stream",
     "text": [
      "Enter the weight in kG: 58\n",
      "Enter the hight in centimeter: 150\n",
      "BMI is : 25.77777777777778\n"
     ]
    }
   ],
   "source": [
    "\"\"\"3. Write a Python Program to calculate your Body Mass Index?\"\"\"\n",
    "wt = int(input(\"Enter the weight in kG: \"))  \n",
    "ht = int(input(\"Enter the hight in centimeter: \"))  \n",
    "htm=ht/100\n",
    "htt= htm*htm\n",
    "BMI= wt/htt\n",
    "print(\"BMI is :\", BMI)"
   ]
  },
  {
   "cell_type": "code",
   "execution_count": 7,
   "id": "b2cdaf20",
   "metadata": {},
   "outputs": [
    {
     "name": "stdout",
     "output_type": "stream",
     "text": [
      "Enter the number: 4\n",
      "The value is: 1.3862943611198906\n"
     ]
    }
   ],
   "source": [
    "\"\"\"4. Write a Python Program to calculate the natural logarithm of any number?\"\"\"\n",
    "\n",
    "import math\n",
    "\n",
    "number = int(input(\"Enter the number: \"))\n",
    "\n",
    "ans = math.log(number)\n",
    "\n",
    "print(\"The value is:\",ans)"
   ]
  },
  {
   "cell_type": "code",
   "execution_count": 14,
   "id": "5bb2d85f",
   "metadata": {},
   "outputs": [
    {
     "name": "stdout",
     "output_type": "stream",
     "text": [
      "Enter the end number: 3\n",
      "36\n"
     ]
    }
   ],
   "source": [
    "\"\"\"5. Write a Python Program for cube sum of first n natural numbers?\"\"\"\n",
    "cube=0\n",
    "sum1=0\n",
    "number = int(input(\"Enter the end number: \"))\n",
    "for i in range(0,number+1):\n",
    "    cube=i*i*i\n",
    "    sum1=sum1+cube\n",
    "\n",
    "print(sum1)"
   ]
  },
  {
   "cell_type": "code",
   "execution_count": null,
   "id": "aa57fc92",
   "metadata": {},
   "outputs": [],
   "source": []
  },
  {
   "cell_type": "code",
   "execution_count": null,
   "id": "446221b7",
   "metadata": {},
   "outputs": [],
   "source": []
  }
 ],
 "metadata": {
  "kernelspec": {
   "display_name": "Python 3 (ipykernel)",
   "language": "python",
   "name": "python3"
  },
  "language_info": {
   "codemirror_mode": {
    "name": "ipython",
    "version": 3
   },
   "file_extension": ".py",
   "mimetype": "text/x-python",
   "name": "python",
   "nbconvert_exporter": "python",
   "pygments_lexer": "ipython3",
   "version": "3.9.12"
  }
 },
 "nbformat": 4,
 "nbformat_minor": 5
}
